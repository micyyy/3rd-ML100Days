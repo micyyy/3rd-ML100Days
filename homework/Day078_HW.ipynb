{
  "nbformat": 4,
  "nbformat_minor": 0,
  "metadata": {
    "kernelspec": {
      "name": "python3",
      "display_name": "Python 3"
    },
    "language_info": {
      "codemirror_mode": {
        "name": "ipython",
        "version": 3
      },
      "file_extension": ".py",
      "mimetype": "text/x-python",
      "name": "python",
      "nbconvert_exporter": "python",
      "pygments_lexer": "ipython3",
      "version": "3.6.5"
    },
    "colab": {
      "name": "Day078_HW.ipynb",
      "provenance": [],
      "collapsed_sections": []
    },
    "accelerator": "GPU"
  },
  "cells": [
    {
      "cell_type": "markdown",
      "metadata": {
        "id": "9NV2j1waMeZ-",
        "colab_type": "text"
      },
      "source": [
        "## Work\n",
        "1. 請嘗試將 preproc_x 替換成以每筆資料的 min/max 進行標準化至 -1 ~ 1 間，再進行訓練\n",
        "2. 請嘗試將 mlp 疊更深 (e.g 5~10 層)，進行訓練後觀察 learning curve 的走勢\n",
        "3. (optional) 請改用 GPU 進行訓練 (如果你有 GPU 的話)，比較使用 CPU 與 GPU 的訓練速度"
      ]
    },
    {
      "cell_type": "code",
      "metadata": {
        "id": "uVqqLeIoMeaS",
        "colab_type": "code",
        "colab": {}
      },
      "source": [
        "## \n",
        "\"\"\"\n",
        "Your code here (optional)\n",
        "確認硬體資源\n",
        "\"\"\"\n"
      ],
      "execution_count": 0,
      "outputs": []
    },
    {
      "cell_type": "code",
      "metadata": {
        "id": "8PoZsXX7Mea-",
        "colab_type": "code",
        "colab": {
          "base_uri": "https://localhost:8080/",
          "height": 101
        },
        "outputId": "0bc5460c-439c-4d23-9830-01765da033b2"
      },
      "source": [
        "import os\n",
        "import keras\n",
        "from sklearn.preprocessing import MinMaxScaler\n",
        "\n",
        "# 請嘗試設定 GPU：os.environ\n",
        "#os.environ[\"CUDA_VISIBLE_DEVICES\"] = \"\""
      ],
      "execution_count": 1,
      "outputs": [
        {
          "output_type": "stream",
          "text": [
            "Using TensorFlow backend.\n"
          ],
          "name": "stderr"
        },
        {
          "output_type": "display_data",
          "data": {
            "text/html": [
              "<p style=\"color: red;\">\n",
              "The default version of TensorFlow in Colab will soon switch to TensorFlow 2.x.<br>\n",
              "We recommend you <a href=\"https://www.tensorflow.org/guide/migrate\" target=\"_blank\">upgrade</a> now \n",
              "or ensure your notebook will continue to use TensorFlow 1.x via the <code>%tensorflow_version 1.x</code> magic:\n",
              "<a href=\"https://colab.research.google.com/notebooks/tensorflow_version.ipynb\" target=\"_blank\">more info</a>.</p>\n"
            ],
            "text/plain": [
              "<IPython.core.display.HTML object>"
            ]
          },
          "metadata": {
            "tags": []
          }
        }
      ]
    },
    {
      "cell_type": "code",
      "metadata": {
        "id": "iQWNKhbdMebc",
        "colab_type": "code",
        "colab": {
          "base_uri": "https://localhost:8080/",
          "height": 54
        },
        "outputId": "15b72984-1a1a-47ae-bec7-85cbfaef8dae"
      },
      "source": [
        "train, test = keras.datasets.cifar10.load_data()"
      ],
      "execution_count": 2,
      "outputs": [
        {
          "output_type": "stream",
          "text": [
            "Downloading data from https://www.cs.toronto.edu/~kriz/cifar-10-python.tar.gz\n",
            "170500096/170498071 [==============================] - 11s 0us/step\n"
          ],
          "name": "stdout"
        }
      ]
    },
    {
      "cell_type": "code",
      "metadata": {
        "id": "5kUyOODvMeb3",
        "colab_type": "code",
        "colab": {}
      },
      "source": [
        "## 資料前處理\n",
        "\"\"\"\n",
        "Your code here\n",
        "\"\"\"\n",
        "def preproc_x(x, flatten=True):\n",
        "    x_original_shape = x.shape\n",
        "    scaler = MinMaxScaler(feature_range=(-1, 1))\n",
        "    x = scaler.fit_transform(x.reshape((len(x), -1)))\n",
        "    \n",
        "    if flatten:\n",
        "      return x\n",
        "    \n",
        "    return x.reshape(x_original_shape)\n",
        "\n",
        "def preproc_y(y, num_classes=10):\n",
        "    if y.shape[-1] == 1:\n",
        "      y = keras.utils.to_categorical(y, num_classes)\n",
        "    \n",
        "    return y"
      ],
      "execution_count": 0,
      "outputs": []
    },
    {
      "cell_type": "code",
      "metadata": {
        "id": "wmHGUeEHMecL",
        "colab_type": "code",
        "colab": {}
      },
      "source": [
        "x_train, y_train = train\n",
        "x_test, y_test = test\n",
        "\n",
        "# Preproc the inputs\n",
        "x_train = preproc_x(x_train)\n",
        "x_test = preproc_x(x_test)\n",
        "\n",
        "# Preprc the outputs\n",
        "y_train = preproc_y(y_train)\n",
        "y_test = preproc_y(y_test)"
      ],
      "execution_count": 0,
      "outputs": []
    },
    {
      "cell_type": "code",
      "metadata": {
        "id": "vbYvA4DXMeck",
        "colab_type": "code",
        "colab": {
          "base_uri": "https://localhost:8080/",
          "height": 625
        },
        "outputId": "90680508-6293-4903-de59-16bd1bdc8c82"
      },
      "source": [
        "\"\"\"Code Here\n",
        "建立你的神經網路\n",
        "\"\"\"\n",
        "def build_mlp(input_shape, output_units=10, num_neurons=[512, 256, 128, 64, 32, 16, 8]):\n",
        "    input_layer = keras.layers.Input(input_shape)\n",
        "    \n",
        "    for i, n_units in enumerate(num_neurons):\n",
        "        if i == 0:\n",
        "            x = keras.layers.Dense(units=n_units, activation=\"relu\", name=\"hidden_layer\"+str(i+1))(input_layer)\n",
        "        else:\n",
        "            x = keras.layers.Dense(units=n_units, activation=\"relu\", name=\"hidden_layer\"+str(i+1))(x)\n",
        "    \n",
        "    out = keras.layers.Dense(units=output_units, activation=\"softmax\", name=\"output\")(x)\n",
        "    \n",
        "    model = keras.models.Model(inputs=[input_layer], outputs=[out])\n",
        "    return model\n",
        "\n",
        "model = build_mlp(input_shape=x_train.shape[1:])\n",
        "model.summary()"
      ],
      "execution_count": 10,
      "outputs": [
        {
          "output_type": "stream",
          "text": [
            "WARNING:tensorflow:From /usr/local/lib/python3.6/dist-packages/keras/backend/tensorflow_backend.py:66: The name tf.get_default_graph is deprecated. Please use tf.compat.v1.get_default_graph instead.\n",
            "\n",
            "WARNING:tensorflow:From /usr/local/lib/python3.6/dist-packages/keras/backend/tensorflow_backend.py:541: The name tf.placeholder is deprecated. Please use tf.compat.v1.placeholder instead.\n",
            "\n",
            "WARNING:tensorflow:From /usr/local/lib/python3.6/dist-packages/keras/backend/tensorflow_backend.py:4432: The name tf.random_uniform is deprecated. Please use tf.random.uniform instead.\n",
            "\n",
            "Model: \"model_1\"\n",
            "_________________________________________________________________\n",
            "Layer (type)                 Output Shape              Param #   \n",
            "=================================================================\n",
            "input_1 (InputLayer)         (None, 3072)              0         \n",
            "_________________________________________________________________\n",
            "hidden_layer1 (Dense)        (None, 512)               1573376   \n",
            "_________________________________________________________________\n",
            "hidden_layer2 (Dense)        (None, 256)               131328    \n",
            "_________________________________________________________________\n",
            "hidden_layer3 (Dense)        (None, 128)               32896     \n",
            "_________________________________________________________________\n",
            "hidden_layer4 (Dense)        (None, 64)                8256      \n",
            "_________________________________________________________________\n",
            "hidden_layer5 (Dense)        (None, 32)                2080      \n",
            "_________________________________________________________________\n",
            "hidden_layer6 (Dense)        (None, 16)                528       \n",
            "_________________________________________________________________\n",
            "hidden_layer7 (Dense)        (None, 8)                 136       \n",
            "_________________________________________________________________\n",
            "output (Dense)               (None, 10)                90        \n",
            "=================================================================\n",
            "Total params: 1,748,690\n",
            "Trainable params: 1,748,690\n",
            "Non-trainable params: 0\n",
            "_________________________________________________________________\n"
          ],
          "name": "stdout"
        }
      ]
    },
    {
      "cell_type": "code",
      "metadata": {
        "id": "R2fk4wwPMec1",
        "colab_type": "code",
        "colab": {}
      },
      "source": [
        "## 超參數設定\n",
        "LEARNING_RATE = 0.001\n",
        "EPOCHS = 100\n",
        "BATCH_SIZE = 256"
      ],
      "execution_count": 0,
      "outputs": []
    },
    {
      "cell_type": "code",
      "metadata": {
        "id": "wNzXEVPbMedL",
        "colab_type": "code",
        "colab": {
          "base_uri": "https://localhost:8080/",
          "height": 110
        },
        "outputId": "e9b53d3d-093f-42ee-c119-f9021f213686"
      },
      "source": [
        "optimizer = keras.optimizers.Adam(lr=LEARNING_RATE)\n",
        "model.compile(loss=\"categorical_crossentropy\", metrics=[\"accuracy\"], optimizer=optimizer)"
      ],
      "execution_count": 12,
      "outputs": [
        {
          "output_type": "stream",
          "text": [
            "WARNING:tensorflow:From /usr/local/lib/python3.6/dist-packages/keras/optimizers.py:793: The name tf.train.Optimizer is deprecated. Please use tf.compat.v1.train.Optimizer instead.\n",
            "\n",
            "WARNING:tensorflow:From /usr/local/lib/python3.6/dist-packages/keras/backend/tensorflow_backend.py:3576: The name tf.log is deprecated. Please use tf.math.log instead.\n",
            "\n"
          ],
          "name": "stdout"
        }
      ]
    },
    {
      "cell_type": "code",
      "metadata": {
        "id": "NmWSk5J5Medw",
        "colab_type": "code",
        "outputId": "3ac448df-8c1e-4546-8310-3d4cea3a6fcf",
        "colab": {
          "base_uri": "https://localhost:8080/",
          "height": 1000
        }
      },
      "source": [
        "model.fit(x_train, y_train, \n",
        "          epochs=EPOCHS, \n",
        "          batch_size=BATCH_SIZE, \n",
        "          validation_data=(x_test, y_test), \n",
        "          shuffle=True)"
      ],
      "execution_count": 13,
      "outputs": [
        {
          "output_type": "stream",
          "text": [
            "WARNING:tensorflow:From /usr/local/lib/python3.6/dist-packages/tensorflow_core/python/ops/math_grad.py:1424: where (from tensorflow.python.ops.array_ops) is deprecated and will be removed in a future version.\n",
            "Instructions for updating:\n",
            "Use tf.where in 2.0, which has the same broadcast rule as np.where\n",
            "WARNING:tensorflow:From /usr/local/lib/python3.6/dist-packages/keras/backend/tensorflow_backend.py:1033: The name tf.assign_add is deprecated. Please use tf.compat.v1.assign_add instead.\n",
            "\n",
            "WARNING:tensorflow:From /usr/local/lib/python3.6/dist-packages/keras/backend/tensorflow_backend.py:1020: The name tf.assign is deprecated. Please use tf.compat.v1.assign instead.\n",
            "\n",
            "WARNING:tensorflow:From /usr/local/lib/python3.6/dist-packages/keras/backend/tensorflow_backend.py:3005: The name tf.Session is deprecated. Please use tf.compat.v1.Session instead.\n",
            "\n",
            "Train on 50000 samples, validate on 10000 samples\n",
            "Epoch 1/100\n",
            "WARNING:tensorflow:From /usr/local/lib/python3.6/dist-packages/keras/backend/tensorflow_backend.py:190: The name tf.get_default_session is deprecated. Please use tf.compat.v1.get_default_session instead.\n",
            "\n",
            "WARNING:tensorflow:From /usr/local/lib/python3.6/dist-packages/keras/backend/tensorflow_backend.py:197: The name tf.ConfigProto is deprecated. Please use tf.compat.v1.ConfigProto instead.\n",
            "\n",
            "WARNING:tensorflow:From /usr/local/lib/python3.6/dist-packages/keras/backend/tensorflow_backend.py:207: The name tf.global_variables is deprecated. Please use tf.compat.v1.global_variables instead.\n",
            "\n",
            "WARNING:tensorflow:From /usr/local/lib/python3.6/dist-packages/keras/backend/tensorflow_backend.py:216: The name tf.is_variable_initialized is deprecated. Please use tf.compat.v1.is_variable_initialized instead.\n",
            "\n",
            "WARNING:tensorflow:From /usr/local/lib/python3.6/dist-packages/keras/backend/tensorflow_backend.py:223: The name tf.variables_initializer is deprecated. Please use tf.compat.v1.variables_initializer instead.\n",
            "\n",
            "50000/50000 [==============================] - 8s 163us/step - loss: 1.9669 - acc: 0.2900 - val_loss: 1.7599 - val_acc: 0.3872\n",
            "Epoch 2/100\n",
            "50000/50000 [==============================] - 3s 57us/step - loss: 1.6599 - acc: 0.4192 - val_loss: 1.6095 - val_acc: 0.4333\n",
            "Epoch 3/100\n",
            "50000/50000 [==============================] - 3s 56us/step - loss: 1.5128 - acc: 0.4719 - val_loss: 1.4933 - val_acc: 0.4693\n",
            "Epoch 4/100\n",
            "50000/50000 [==============================] - 3s 57us/step - loss: 1.4017 - acc: 0.5080 - val_loss: 1.4434 - val_acc: 0.4991\n",
            "Epoch 5/100\n",
            "50000/50000 [==============================] - 3s 57us/step - loss: 1.3149 - acc: 0.5384 - val_loss: 1.4338 - val_acc: 0.5055\n",
            "Epoch 6/100\n",
            "50000/50000 [==============================] - 3s 57us/step - loss: 1.2351 - acc: 0.5651 - val_loss: 1.4067 - val_acc: 0.5215\n",
            "Epoch 7/100\n",
            "50000/50000 [==============================] - 3s 56us/step - loss: 1.1615 - acc: 0.5926 - val_loss: 1.4012 - val_acc: 0.5167\n",
            "Epoch 8/100\n",
            "50000/50000 [==============================] - 3s 57us/step - loss: 1.0876 - acc: 0.6175 - val_loss: 1.4252 - val_acc: 0.5169\n",
            "Epoch 9/100\n",
            "50000/50000 [==============================] - 3s 56us/step - loss: 1.0230 - acc: 0.6402 - val_loss: 1.4350 - val_acc: 0.5276\n",
            "Epoch 10/100\n",
            "50000/50000 [==============================] - 3s 56us/step - loss: 0.9648 - acc: 0.6617 - val_loss: 1.4304 - val_acc: 0.5291\n",
            "Epoch 11/100\n",
            "50000/50000 [==============================] - 3s 56us/step - loss: 0.8999 - acc: 0.6801 - val_loss: 1.5034 - val_acc: 0.5278\n",
            "Epoch 12/100\n",
            "50000/50000 [==============================] - 3s 58us/step - loss: 0.8390 - acc: 0.7022 - val_loss: 1.5164 - val_acc: 0.5307\n",
            "Epoch 13/100\n",
            "50000/50000 [==============================] - 3s 57us/step - loss: 0.7789 - acc: 0.7235 - val_loss: 1.5718 - val_acc: 0.5318\n",
            "Epoch 14/100\n",
            "50000/50000 [==============================] - 3s 57us/step - loss: 0.7172 - acc: 0.7474 - val_loss: 1.6239 - val_acc: 0.5263\n",
            "Epoch 15/100\n",
            "50000/50000 [==============================] - 3s 57us/step - loss: 0.6785 - acc: 0.7593 - val_loss: 1.6896 - val_acc: 0.5276\n",
            "Epoch 16/100\n",
            "50000/50000 [==============================] - 3s 57us/step - loss: 0.6240 - acc: 0.7784 - val_loss: 1.7027 - val_acc: 0.5361\n",
            "Epoch 17/100\n",
            "50000/50000 [==============================] - 3s 58us/step - loss: 0.5918 - acc: 0.7894 - val_loss: 1.7939 - val_acc: 0.5329\n",
            "Epoch 18/100\n",
            "50000/50000 [==============================] - 3s 56us/step - loss: 0.5473 - acc: 0.8046 - val_loss: 1.8323 - val_acc: 0.5335\n",
            "Epoch 19/100\n",
            "50000/50000 [==============================] - 3s 58us/step - loss: 0.5131 - acc: 0.8174 - val_loss: 1.9006 - val_acc: 0.5309\n",
            "Epoch 20/100\n",
            "50000/50000 [==============================] - 3s 58us/step - loss: 0.4717 - acc: 0.8326 - val_loss: 1.9917 - val_acc: 0.5290\n",
            "Epoch 21/100\n",
            "50000/50000 [==============================] - 3s 56us/step - loss: 0.4473 - acc: 0.8422 - val_loss: 2.0223 - val_acc: 0.5309\n",
            "Epoch 22/100\n",
            "50000/50000 [==============================] - 3s 56us/step - loss: 0.4187 - acc: 0.8517 - val_loss: 2.2278 - val_acc: 0.5238\n",
            "Epoch 23/100\n",
            "50000/50000 [==============================] - 3s 56us/step - loss: 0.3814 - acc: 0.8644 - val_loss: 2.2618 - val_acc: 0.5218\n",
            "Epoch 24/100\n",
            "50000/50000 [==============================] - 3s 57us/step - loss: 0.3728 - acc: 0.8702 - val_loss: 2.2714 - val_acc: 0.5208\n",
            "Epoch 25/100\n",
            "50000/50000 [==============================] - 3s 57us/step - loss: 0.3273 - acc: 0.8856 - val_loss: 2.3865 - val_acc: 0.5351\n",
            "Epoch 26/100\n",
            "50000/50000 [==============================] - 3s 57us/step - loss: 0.3112 - acc: 0.8909 - val_loss: 2.4328 - val_acc: 0.5290\n",
            "Epoch 27/100\n",
            "50000/50000 [==============================] - 3s 57us/step - loss: 0.3100 - acc: 0.8925 - val_loss: 2.5112 - val_acc: 0.5294\n",
            "Epoch 28/100\n",
            "50000/50000 [==============================] - 3s 56us/step - loss: 0.2945 - acc: 0.8962 - val_loss: 2.5120 - val_acc: 0.5199\n",
            "Epoch 29/100\n",
            "50000/50000 [==============================] - 3s 56us/step - loss: 0.2706 - acc: 0.9054 - val_loss: 2.6446 - val_acc: 0.5278\n",
            "Epoch 30/100\n",
            "50000/50000 [==============================] - 3s 58us/step - loss: 0.2591 - acc: 0.9114 - val_loss: 2.6178 - val_acc: 0.5353\n",
            "Epoch 31/100\n",
            "50000/50000 [==============================] - 3s 59us/step - loss: 0.2562 - acc: 0.9120 - val_loss: 2.6993 - val_acc: 0.5235\n",
            "Epoch 32/100\n",
            "50000/50000 [==============================] - 3s 59us/step - loss: 0.2290 - acc: 0.9221 - val_loss: 2.8384 - val_acc: 0.5186\n",
            "Epoch 33/100\n",
            "50000/50000 [==============================] - 3s 58us/step - loss: 0.2251 - acc: 0.9228 - val_loss: 2.9292 - val_acc: 0.5170\n",
            "Epoch 34/100\n",
            "50000/50000 [==============================] - 3s 56us/step - loss: 0.2269 - acc: 0.9222 - val_loss: 2.8781 - val_acc: 0.5253\n",
            "Epoch 35/100\n",
            "50000/50000 [==============================] - 3s 56us/step - loss: 0.2263 - acc: 0.9228 - val_loss: 2.8585 - val_acc: 0.5226\n",
            "Epoch 36/100\n",
            "50000/50000 [==============================] - 3s 57us/step - loss: 0.1912 - acc: 0.9334 - val_loss: 2.9818 - val_acc: 0.5221\n",
            "Epoch 37/100\n",
            "50000/50000 [==============================] - 3s 57us/step - loss: 0.1896 - acc: 0.9358 - val_loss: 3.1066 - val_acc: 0.5203\n",
            "Epoch 38/100\n",
            "50000/50000 [==============================] - 3s 57us/step - loss: 0.1934 - acc: 0.9336 - val_loss: 3.0508 - val_acc: 0.5251\n",
            "Epoch 39/100\n",
            "50000/50000 [==============================] - 3s 59us/step - loss: 0.1725 - acc: 0.9412 - val_loss: 3.1517 - val_acc: 0.5219\n",
            "Epoch 40/100\n",
            "50000/50000 [==============================] - 3s 58us/step - loss: 0.1861 - acc: 0.9365 - val_loss: 3.1664 - val_acc: 0.5297\n",
            "Epoch 41/100\n",
            "50000/50000 [==============================] - 3s 56us/step - loss: 0.1797 - acc: 0.9392 - val_loss: 3.1124 - val_acc: 0.5243\n",
            "Epoch 42/100\n",
            "50000/50000 [==============================] - 3s 56us/step - loss: 0.1525 - acc: 0.9485 - val_loss: 3.2222 - val_acc: 0.5274\n",
            "Epoch 43/100\n",
            "50000/50000 [==============================] - 3s 56us/step - loss: 0.1603 - acc: 0.9460 - val_loss: 3.2229 - val_acc: 0.5267\n",
            "Epoch 44/100\n",
            "50000/50000 [==============================] - 3s 56us/step - loss: 0.1592 - acc: 0.9459 - val_loss: 3.2558 - val_acc: 0.5205\n",
            "Epoch 45/100\n",
            "50000/50000 [==============================] - 3s 56us/step - loss: 0.1596 - acc: 0.9463 - val_loss: 3.2736 - val_acc: 0.5246\n",
            "Epoch 46/100\n",
            "50000/50000 [==============================] - 3s 57us/step - loss: 0.1578 - acc: 0.9478 - val_loss: 3.3289 - val_acc: 0.5204\n",
            "Epoch 47/100\n",
            "50000/50000 [==============================] - 3s 57us/step - loss: 0.1430 - acc: 0.9524 - val_loss: 3.3249 - val_acc: 0.5177\n",
            "Epoch 48/100\n",
            "50000/50000 [==============================] - 3s 56us/step - loss: 0.1149 - acc: 0.9616 - val_loss: 3.5080 - val_acc: 0.5252\n",
            "Epoch 49/100\n",
            "50000/50000 [==============================] - 3s 56us/step - loss: 0.1486 - acc: 0.9500 - val_loss: 3.3776 - val_acc: 0.5307\n",
            "Epoch 50/100\n",
            "50000/50000 [==============================] - 3s 57us/step - loss: 0.1458 - acc: 0.9513 - val_loss: 3.3679 - val_acc: 0.5203\n",
            "Epoch 51/100\n",
            "50000/50000 [==============================] - 3s 56us/step - loss: 0.1278 - acc: 0.9578 - val_loss: 3.4994 - val_acc: 0.5180\n",
            "Epoch 52/100\n",
            "50000/50000 [==============================] - 3s 56us/step - loss: 0.1138 - acc: 0.9625 - val_loss: 3.5034 - val_acc: 0.5243\n",
            "Epoch 53/100\n",
            "50000/50000 [==============================] - 3s 58us/step - loss: 0.1398 - acc: 0.9540 - val_loss: 3.4212 - val_acc: 0.5238\n",
            "Epoch 54/100\n",
            "50000/50000 [==============================] - 3s 57us/step - loss: 0.1273 - acc: 0.9582 - val_loss: 3.4729 - val_acc: 0.5249\n",
            "Epoch 55/100\n",
            "50000/50000 [==============================] - 3s 57us/step - loss: 0.1065 - acc: 0.9641 - val_loss: 3.5827 - val_acc: 0.5204\n",
            "Epoch 56/100\n",
            "50000/50000 [==============================] - 3s 56us/step - loss: 0.1358 - acc: 0.9548 - val_loss: 3.5146 - val_acc: 0.5194\n",
            "Epoch 57/100\n",
            "50000/50000 [==============================] - 3s 57us/step - loss: 0.1215 - acc: 0.9604 - val_loss: 3.4428 - val_acc: 0.5189\n",
            "Epoch 58/100\n",
            "50000/50000 [==============================] - 3s 57us/step - loss: 0.1242 - acc: 0.9595 - val_loss: 3.5395 - val_acc: 0.5302\n",
            "Epoch 59/100\n",
            "50000/50000 [==============================] - 3s 56us/step - loss: 0.1074 - acc: 0.9641 - val_loss: 3.6504 - val_acc: 0.5330\n",
            "Epoch 60/100\n",
            "50000/50000 [==============================] - 3s 56us/step - loss: 0.1120 - acc: 0.9618 - val_loss: 3.5368 - val_acc: 0.5244\n",
            "Epoch 61/100\n",
            "50000/50000 [==============================] - 3s 58us/step - loss: 0.1245 - acc: 0.9583 - val_loss: 3.5223 - val_acc: 0.5197\n",
            "Epoch 62/100\n",
            "50000/50000 [==============================] - 3s 55us/step - loss: 0.1070 - acc: 0.9653 - val_loss: 3.6385 - val_acc: 0.5253\n",
            "Epoch 63/100\n",
            "50000/50000 [==============================] - 3s 57us/step - loss: 0.0962 - acc: 0.9681 - val_loss: 3.7023 - val_acc: 0.5202\n",
            "Epoch 64/100\n",
            "50000/50000 [==============================] - 3s 56us/step - loss: 0.1088 - acc: 0.9656 - val_loss: 3.6145 - val_acc: 0.5283\n",
            "Epoch 65/100\n",
            "50000/50000 [==============================] - 3s 56us/step - loss: 0.1011 - acc: 0.9679 - val_loss: 3.6751 - val_acc: 0.5295\n",
            "Epoch 66/100\n",
            "50000/50000 [==============================] - 3s 57us/step - loss: 0.0942 - acc: 0.9682 - val_loss: 3.7460 - val_acc: 0.5259\n",
            "Epoch 67/100\n",
            "50000/50000 [==============================] - 3s 57us/step - loss: 0.0912 - acc: 0.9706 - val_loss: 3.6786 - val_acc: 0.5294\n",
            "Epoch 68/100\n",
            "50000/50000 [==============================] - 3s 58us/step - loss: 0.0981 - acc: 0.9689 - val_loss: 3.6824 - val_acc: 0.5208\n",
            "Epoch 69/100\n",
            "50000/50000 [==============================] - 3s 57us/step - loss: 0.1058 - acc: 0.9658 - val_loss: 3.5977 - val_acc: 0.5242\n",
            "Epoch 70/100\n",
            "50000/50000 [==============================] - 3s 57us/step - loss: 0.1062 - acc: 0.9656 - val_loss: 3.6343 - val_acc: 0.5221\n",
            "Epoch 71/100\n",
            "50000/50000 [==============================] - 3s 56us/step - loss: 0.0855 - acc: 0.9713 - val_loss: 3.7151 - val_acc: 0.5102\n",
            "Epoch 72/100\n",
            "50000/50000 [==============================] - 3s 58us/step - loss: 0.0901 - acc: 0.9709 - val_loss: 3.7557 - val_acc: 0.5197\n",
            "Epoch 73/100\n",
            "50000/50000 [==============================] - 3s 56us/step - loss: 0.1128 - acc: 0.9630 - val_loss: 3.5900 - val_acc: 0.5248\n",
            "Epoch 74/100\n",
            "50000/50000 [==============================] - 3s 57us/step - loss: 0.0636 - acc: 0.9797 - val_loss: 3.8780 - val_acc: 0.5163\n",
            "Epoch 75/100\n",
            "50000/50000 [==============================] - 3s 56us/step - loss: 0.0793 - acc: 0.9747 - val_loss: 3.7048 - val_acc: 0.5274\n",
            "Epoch 76/100\n",
            "50000/50000 [==============================] - 3s 57us/step - loss: 0.0971 - acc: 0.9690 - val_loss: 3.6882 - val_acc: 0.5253\n",
            "Epoch 77/100\n",
            "50000/50000 [==============================] - 3s 57us/step - loss: 0.0861 - acc: 0.9725 - val_loss: 3.8075 - val_acc: 0.5356\n",
            "Epoch 78/100\n",
            "50000/50000 [==============================] - 3s 57us/step - loss: 0.0904 - acc: 0.9708 - val_loss: 3.7358 - val_acc: 0.5243\n",
            "Epoch 79/100\n",
            "50000/50000 [==============================] - 3s 57us/step - loss: 0.0959 - acc: 0.9687 - val_loss: 3.7286 - val_acc: 0.5294\n",
            "Epoch 80/100\n",
            "50000/50000 [==============================] - 3s 57us/step - loss: 0.0795 - acc: 0.9744 - val_loss: 3.6677 - val_acc: 0.5241\n",
            "Epoch 81/100\n",
            "50000/50000 [==============================] - 3s 57us/step - loss: 0.0858 - acc: 0.9729 - val_loss: 3.7881 - val_acc: 0.5247\n",
            "Epoch 82/100\n",
            "50000/50000 [==============================] - 3s 57us/step - loss: 0.0864 - acc: 0.9722 - val_loss: 3.7530 - val_acc: 0.5289\n",
            "Epoch 83/100\n",
            "50000/50000 [==============================] - 3s 57us/step - loss: 0.0791 - acc: 0.9753 - val_loss: 3.7302 - val_acc: 0.5256\n",
            "Epoch 84/100\n",
            "50000/50000 [==============================] - 3s 57us/step - loss: 0.0970 - acc: 0.9681 - val_loss: 3.8040 - val_acc: 0.5334\n",
            "Epoch 85/100\n",
            "50000/50000 [==============================] - 3s 56us/step - loss: 0.0813 - acc: 0.9738 - val_loss: 3.7259 - val_acc: 0.5246\n",
            "Epoch 86/100\n",
            "50000/50000 [==============================] - 3s 56us/step - loss: 0.0626 - acc: 0.9798 - val_loss: 3.9350 - val_acc: 0.5249\n",
            "Epoch 87/100\n",
            "50000/50000 [==============================] - 3s 56us/step - loss: 0.0757 - acc: 0.9760 - val_loss: 3.7586 - val_acc: 0.5282\n",
            "Epoch 88/100\n",
            "50000/50000 [==============================] - 3s 57us/step - loss: 0.0952 - acc: 0.9698 - val_loss: 3.7715 - val_acc: 0.5278\n",
            "Epoch 89/100\n",
            "50000/50000 [==============================] - 3s 56us/step - loss: 0.0609 - acc: 0.9803 - val_loss: 3.8715 - val_acc: 0.5257\n",
            "Epoch 90/100\n",
            "50000/50000 [==============================] - 3s 56us/step - loss: 0.0636 - acc: 0.9797 - val_loss: 3.8566 - val_acc: 0.5248\n",
            "Epoch 91/100\n",
            "50000/50000 [==============================] - 3s 57us/step - loss: 0.0729 - acc: 0.9766 - val_loss: 3.9381 - val_acc: 0.5212\n",
            "Epoch 92/100\n",
            "50000/50000 [==============================] - 3s 55us/step - loss: 0.0865 - acc: 0.9730 - val_loss: 3.7327 - val_acc: 0.5289\n",
            "Epoch 93/100\n",
            "50000/50000 [==============================] - 3s 56us/step - loss: 0.0528 - acc: 0.9831 - val_loss: 3.9287 - val_acc: 0.5336\n",
            "Epoch 94/100\n",
            "50000/50000 [==============================] - 3s 57us/step - loss: 0.0857 - acc: 0.9726 - val_loss: 3.8732 - val_acc: 0.5146\n",
            "Epoch 95/100\n",
            "50000/50000 [==============================] - 3s 57us/step - loss: 0.0805 - acc: 0.9741 - val_loss: 3.8960 - val_acc: 0.5224\n",
            "Epoch 96/100\n",
            "50000/50000 [==============================] - 3s 56us/step - loss: 0.0790 - acc: 0.9745 - val_loss: 3.8577 - val_acc: 0.5273\n",
            "Epoch 97/100\n",
            "50000/50000 [==============================] - 3s 56us/step - loss: 0.0614 - acc: 0.9798 - val_loss: 3.8569 - val_acc: 0.5313\n",
            "Epoch 98/100\n",
            "50000/50000 [==============================] - 3s 56us/step - loss: 0.0746 - acc: 0.9767 - val_loss: 3.8545 - val_acc: 0.5251\n",
            "Epoch 99/100\n",
            "50000/50000 [==============================] - 3s 57us/step - loss: 0.0680 - acc: 0.9787 - val_loss: 3.9680 - val_acc: 0.5267\n",
            "Epoch 100/100\n",
            "50000/50000 [==============================] - 3s 57us/step - loss: 0.0687 - acc: 0.9778 - val_loss: 4.0574 - val_acc: 0.5210\n"
          ],
          "name": "stdout"
        },
        {
          "output_type": "execute_result",
          "data": {
            "text/plain": [
              "<keras.callbacks.History at 0x7fa87acfd048>"
            ]
          },
          "metadata": {
            "tags": []
          },
          "execution_count": 13
        }
      ]
    },
    {
      "cell_type": "code",
      "metadata": {
        "id": "euTVaXUNMeeS",
        "colab_type": "code",
        "outputId": "d8bc3d97-7f89-408b-a210-2cf1f923827e",
        "colab": {
          "base_uri": "https://localhost:8080/",
          "height": 545
        }
      },
      "source": [
        "import matplotlib.pyplot as plt\n",
        "\n",
        "\n",
        "train_loss = model.history.history[\"loss\"]\n",
        "valid_loss = model.history.history[\"val_loss\"]\n",
        "\n",
        "train_acc = model.history.history[\"acc\"]\n",
        "valid_acc = model.history.history[\"val_acc\"]\n",
        "\n",
        "plt.plot(range(len(train_loss)), train_loss, label=\"train loss\")\n",
        "plt.plot(range(len(valid_loss)), valid_loss, label=\"valid loss\")\n",
        "plt.legend()\n",
        "plt.title(\"Loss\")\n",
        "plt.show()\n",
        "\n",
        "plt.plot(range(len(train_acc)), train_acc, label=\"train accuracy\")\n",
        "plt.plot(range(len(valid_acc)), valid_acc, label=\"valid accuracy\")\n",
        "plt.legend()\n",
        "plt.title(\"Accuracy\")\n",
        "plt.show()"
      ],
      "execution_count": 14,
      "outputs": [
        {
          "output_type": "display_data",
          "data": {
            "image/png": "[encoded data removed]",
            "text/plain": [
              "<Figure size 432x288 with 1 Axes>"
            ]
          },
          "metadata": {
            "tags": []
          }
        },
        {
          "output_type": "display_data",
          "data": {
            "image/png": "[encoded data removed]",
            "text/plain": [
              "<Figure size 432x288 with 1 Axes>"
            ]
          },
          "metadata": {
            "tags": []
          }
        }
      ]
    }
  ]
}