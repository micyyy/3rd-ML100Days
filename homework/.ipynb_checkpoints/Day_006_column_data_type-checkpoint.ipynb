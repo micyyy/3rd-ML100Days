{
 "cells": [
  {
   "cell_type": "markdown",
   "metadata": {},
   "source": [
    "# [教學目標]\n",
    "- 知道 DataFrame 如何檢視欄位的型態數量以及各欄型態, 以及 Label Encoding / One Hot Encoding 如何寫?"
   ]
  },
  {
   "cell_type": "markdown",
   "metadata": {},
   "source": [
    "# [範例重點]\n",
    "- 檢視 DataFrame 的資料型態 (In[3], In[4])\n",
    "- 了解 Label Encoding 如何寫 (In[6])\n",
    "- 了解 One Hot Encoding 如何寫 (In[7])"
   ]
  },
  {
   "cell_type": "code",
   "execution_count": 1,
   "metadata": {
    "colab": {},
    "colab_type": "code",
    "id": "lh9gyloHVblR"
   },
   "outputs": [],
   "source": [
    "import os\n",
    "import numpy as np\n",
    "import pandas as pd"
   ]
  },
  {
   "cell_type": "code",
   "execution_count": 2,
   "metadata": {
    "colab": {},
    "colab_type": "code",
    "id": "z4iLB9cKVblV"
   },
   "outputs": [],
   "source": [
    "# 設定 data_path\n",
    "dir_data = './data/'\n",
    "f_app_train = os.path.join(dir_data, 'application_train.csv')\n",
    "f_app_test = os.path.join(dir_data, 'application_test.csv')\n",
    "\n",
    "app_train = pd.read_csv(f_app_train)\n",
    "app_test = pd.read_csv(f_app_test)"
   ]
  },
  {
   "cell_type": "markdown",
   "metadata": {
    "colab_type": "text",
    "id": "-LNS2pOoVblX"
   },
   "source": [
    "檢視資料中各個欄位類型的數量"
   ]
  },
  {
   "cell_type": "code",
   "execution_count": 3,
   "metadata": {
    "colab": {},
    "colab_type": "code",
    "id": "NvxV5-OzVblX",
    "outputId": "9bf04bf8-6e24-408a-d441-73caf888623b"
   },
   "outputs": [
    {
     "data": {
      "text/plain": [
       "float64    65\n",
       "int64      41\n",
       "object     16\n",
       "dtype: int64"
      ]
     },
     "execution_count": 3,
     "metadata": {},
     "output_type": "execute_result"
    }
   ],
   "source": [
    "app_train.dtypes.value_counts()"
   ]
  },
  {
   "cell_type": "markdown",
   "metadata": {
    "colab_type": "text",
    "id": "uzkefhdIVblc"
   },
   "source": [
    "檢視資料中類別型欄位各自類別的數量"
   ]
  },
  {
   "cell_type": "code",
   "execution_count": 4,
   "metadata": {
    "colab": {},
    "colab_type": "code",
    "id": "Yf16HFmgVblc",
    "outputId": "d0d39d02-1ffb-4238-df40-0e67b0c123b0"
   },
   "outputs": [
    {
     "data": {
      "text/plain": [
       "NAME_CONTRACT_TYPE             2\n",
       "CODE_GENDER                    3\n",
       "FLAG_OWN_CAR                   2\n",
       "FLAG_OWN_REALTY                2\n",
       "NAME_TYPE_SUITE                7\n",
       "NAME_INCOME_TYPE               8\n",
       "NAME_EDUCATION_TYPE            5\n",
       "NAME_FAMILY_STATUS             6\n",
       "NAME_HOUSING_TYPE              6\n",
       "OCCUPATION_TYPE               18\n",
       "WEEKDAY_APPR_PROCESS_START     7\n",
       "ORGANIZATION_TYPE             58\n",
       "FONDKAPREMONT_MODE             4\n",
       "HOUSETYPE_MODE                 3\n",
       "WALLSMATERIAL_MODE             7\n",
       "EMERGENCYSTATE_MODE            2\n",
       "dtype: int64"
      ]
     },
     "execution_count": 4,
     "metadata": {},
     "output_type": "execute_result"
    }
   ],
   "source": [
    "app_train.select_dtypes(include=[\"object\"]).apply(pd.Series.nunique, axis = 0)"
   ]
  },
  {
   "cell_type": "markdown",
   "metadata": {
    "colab_type": "text",
    "id": "P7RU9oyvVblg"
   },
   "source": [
    "#### Label encoding\n",
    "有仔細閱讀[參考資料](https://medium.com/@contactsunny/label-encoder-vs-one-hot-encoder-in-machine-learning-3fc273365621)的人可以發現，Label encoding 的表示方式會讓同一個欄位底下的類別之間有大小關係 (0<1<2<...)，所以在這裡我們只對有類別數量小於等於 2 的類別型欄位示範使用 Label encoding，但不表示這樣處理是最好的，一切取決於欄位本身的意義適合哪一種表示方法"
   ]
  },
  {
   "cell_type": "code",
   "execution_count": 6,
   "metadata": {
    "colab": {},
    "colab_type": "code",
    "id": "mmvKPGtgVblg"
   },
   "outputs": [],
   "source": [
    "from sklearn.preprocessing import LabelEncoder"
   ]
  },
  {
   "cell_type": "code",
   "execution_count": 9,
   "metadata": {
    "colab": {},
    "colab_type": "code",
    "id": "bhsQcnbrVblj",
    "outputId": "36f5888f-09fd-4d92-de58-74041808aee2"
   },
   "outputs": [
    {
     "name": "stdout",
     "output_type": "stream",
     "text": [
      "col: SK_ID_CURR dtype: int64\n",
      "col: TARGET dtype: int64\n",
      "col: NAME_CONTRACT_TYPE dtype: int32\n",
      "col: CODE_GENDER dtype: object\n",
      "col: FLAG_OWN_CAR dtype: int32\n",
      "col: FLAG_OWN_REALTY dtype: int32\n",
      "col: CNT_CHILDREN dtype: int64\n",
      "col: AMT_INCOME_TOTAL dtype: float64\n",
      "col: AMT_CREDIT dtype: float64\n",
      "col: AMT_ANNUITY dtype: float64\n",
      "col: AMT_GOODS_PRICE dtype: float64\n",
      "col: NAME_TYPE_SUITE dtype: object\n",
      "col: NAME_INCOME_TYPE dtype: object\n",
      "col: NAME_EDUCATION_TYPE dtype: object\n",
      "col: NAME_FAMILY_STATUS dtype: object\n",
      "col: NAME_HOUSING_TYPE dtype: object\n",
      "col: REGION_POPULATION_RELATIVE dtype: float64\n",
      "col: DAYS_BIRTH dtype: int64\n",
      "col: DAYS_EMPLOYED dtype: int64\n",
      "col: DAYS_REGISTRATION dtype: float64\n",
      "col: DAYS_ID_PUBLISH dtype: int64\n",
      "col: OWN_CAR_AGE dtype: float64\n",
      "col: FLAG_MOBIL dtype: int64\n",
      "col: FLAG_EMP_PHONE dtype: int64\n",
      "col: FLAG_WORK_PHONE dtype: int64\n",
      "col: FLAG_CONT_MOBILE dtype: int64\n",
      "col: FLAG_PHONE dtype: int64\n",
      "col: FLAG_EMAIL dtype: int64\n",
      "col: OCCUPATION_TYPE dtype: object\n",
      "col: CNT_FAM_MEMBERS dtype: float64\n",
      "col: REGION_RATING_CLIENT dtype: int64\n",
      "col: REGION_RATING_CLIENT_W_CITY dtype: int64\n",
      "col: WEEKDAY_APPR_PROCESS_START dtype: object\n",
      "col: HOUR_APPR_PROCESS_START dtype: int64\n",
      "col: REG_REGION_NOT_LIVE_REGION dtype: int64\n",
      "col: REG_REGION_NOT_WORK_REGION dtype: int64\n",
      "col: LIVE_REGION_NOT_WORK_REGION dtype: int64\n",
      "col: REG_CITY_NOT_LIVE_CITY dtype: int64\n",
      "col: REG_CITY_NOT_WORK_CITY dtype: int64\n",
      "col: LIVE_CITY_NOT_WORK_CITY dtype: int64\n",
      "col: ORGANIZATION_TYPE dtype: object\n",
      "col: EXT_SOURCE_1 dtype: float64\n",
      "col: EXT_SOURCE_2 dtype: float64\n",
      "col: EXT_SOURCE_3 dtype: float64\n",
      "col: APARTMENTS_AVG dtype: float64\n",
      "col: BASEMENTAREA_AVG dtype: float64\n",
      "col: YEARS_BEGINEXPLUATATION_AVG dtype: float64\n",
      "col: YEARS_BUILD_AVG dtype: float64\n",
      "col: COMMONAREA_AVG dtype: float64\n",
      "col: ELEVATORS_AVG dtype: float64\n",
      "col: ENTRANCES_AVG dtype: float64\n",
      "col: FLOORSMAX_AVG dtype: float64\n",
      "col: FLOORSMIN_AVG dtype: float64\n",
      "col: LANDAREA_AVG dtype: float64\n",
      "col: LIVINGAPARTMENTS_AVG dtype: float64\n",
      "col: LIVINGAREA_AVG dtype: float64\n",
      "col: NONLIVINGAPARTMENTS_AVG dtype: float64\n",
      "col: NONLIVINGAREA_AVG dtype: float64\n",
      "col: APARTMENTS_MODE dtype: float64\n",
      "col: BASEMENTAREA_MODE dtype: float64\n",
      "col: YEARS_BEGINEXPLUATATION_MODE dtype: float64\n",
      "col: YEARS_BUILD_MODE dtype: float64\n",
      "col: COMMONAREA_MODE dtype: float64\n",
      "col: ELEVATORS_MODE dtype: float64\n",
      "col: ENTRANCES_MODE dtype: float64\n",
      "col: FLOORSMAX_MODE dtype: float64\n",
      "col: FLOORSMIN_MODE dtype: float64\n",
      "col: LANDAREA_MODE dtype: float64\n",
      "col: LIVINGAPARTMENTS_MODE dtype: float64\n",
      "col: LIVINGAREA_MODE dtype: float64\n",
      "col: NONLIVINGAPARTMENTS_MODE dtype: float64\n",
      "col: NONLIVINGAREA_MODE dtype: float64\n",
      "col: APARTMENTS_MEDI dtype: float64\n",
      "col: BASEMENTAREA_MEDI dtype: float64\n",
      "col: YEARS_BEGINEXPLUATATION_MEDI dtype: float64\n",
      "col: YEARS_BUILD_MEDI dtype: float64\n",
      "col: COMMONAREA_MEDI dtype: float64\n",
      "col: ELEVATORS_MEDI dtype: float64\n",
      "col: ENTRANCES_MEDI dtype: float64\n",
      "col: FLOORSMAX_MEDI dtype: float64\n",
      "col: FLOORSMIN_MEDI dtype: float64\n",
      "col: LANDAREA_MEDI dtype: float64\n",
      "col: LIVINGAPARTMENTS_MEDI dtype: float64\n",
      "col: LIVINGAREA_MEDI dtype: float64\n",
      "col: NONLIVINGAPARTMENTS_MEDI dtype: float64\n",
      "col: NONLIVINGAREA_MEDI dtype: float64\n",
      "col: FONDKAPREMONT_MODE dtype: object\n",
      "col: HOUSETYPE_MODE dtype: object\n",
      "col: TOTALAREA_MODE dtype: float64\n",
      "col: WALLSMATERIAL_MODE dtype: object\n",
      "col: EMERGENCYSTATE_MODE dtype: object\n",
      "col: OBS_30_CNT_SOCIAL_CIRCLE dtype: float64\n",
      "col: DEF_30_CNT_SOCIAL_CIRCLE dtype: float64\n",
      "col: OBS_60_CNT_SOCIAL_CIRCLE dtype: float64\n",
      "col: DEF_60_CNT_SOCIAL_CIRCLE dtype: float64\n",
      "col: DAYS_LAST_PHONE_CHANGE dtype: float64\n",
      "col: FLAG_DOCUMENT_2 dtype: int64\n",
      "col: FLAG_DOCUMENT_3 dtype: int64\n",
      "col: FLAG_DOCUMENT_4 dtype: int64\n",
      "col: FLAG_DOCUMENT_5 dtype: int64\n",
      "col: FLAG_DOCUMENT_6 dtype: int64\n",
      "col: FLAG_DOCUMENT_7 dtype: int64\n",
      "col: FLAG_DOCUMENT_8 dtype: int64\n",
      "col: FLAG_DOCUMENT_9 dtype: int64\n",
      "col: FLAG_DOCUMENT_10 dtype: int64\n",
      "col: FLAG_DOCUMENT_11 dtype: int64\n",
      "col: FLAG_DOCUMENT_12 dtype: int64\n",
      "col: FLAG_DOCUMENT_13 dtype: int64\n",
      "col: FLAG_DOCUMENT_14 dtype: int64\n",
      "col: FLAG_DOCUMENT_15 dtype: int64\n",
      "col: FLAG_DOCUMENT_16 dtype: int64\n",
      "col: FLAG_DOCUMENT_17 dtype: int64\n",
      "col: FLAG_DOCUMENT_18 dtype: int64\n",
      "col: FLAG_DOCUMENT_19 dtype: int64\n",
      "col: FLAG_DOCUMENT_20 dtype: int64\n",
      "col: FLAG_DOCUMENT_21 dtype: int64\n",
      "col: AMT_REQ_CREDIT_BUREAU_HOUR dtype: float64\n",
      "col: AMT_REQ_CREDIT_BUREAU_DAY dtype: float64\n",
      "col: AMT_REQ_CREDIT_BUREAU_WEEK dtype: float64\n",
      "col: AMT_REQ_CREDIT_BUREAU_MON dtype: float64\n",
      "col: AMT_REQ_CREDIT_BUREAU_QRT dtype: float64\n",
      "col: AMT_REQ_CREDIT_BUREAU_YEAR dtype: float64\n",
      "0 columns were label encoded.\n"
     ]
    }
   ],
   "source": [
    "# Create a label encoder object\n",
    "le = LabelEncoder()\n",
    "le_count = 0\n",
    "\n",
    "# Iterate through the columns\n",
    "for col in app_train:\n",
    "    print('col:', col, 'dtype:', app_train[col].dtype)\n",
    "    if app_train[col].dtype == 'object':\n",
    "        # If 2 or fewer unique categories\n",
    "        if len(list(app_train[col].unique())) <= 2:\n",
    "            # Train on the training data\n",
    "            le.fit(app_train[col])\n",
    "            # Transform both training and testing data\n",
    "            app_train[col] = le.transform(app_train[col])\n",
    "            app_test[col] = le.transform(app_test[col])\n",
    "            \n",
    "            # Keep track of how many columns were label encoded\n",
    "            le_count += 1\n",
    "            \n",
    "print('%d columns were label encoded.' % le_count)"
   ]
  },
  {
   "cell_type": "markdown",
   "metadata": {
    "colab_type": "text",
    "id": "fZ14f-GpVbll"
   },
   "source": [
    "#### One Hot encoding\n",
    "pandas 中的 one hot encoding 非常方便，一行程式碼就搞定"
   ]
  },
  {
   "cell_type": "code",
   "execution_count": 10,
   "metadata": {
    "colab": {},
    "colab_type": "code",
    "id": "1O-M3EdDVblm",
    "outputId": "93ac010f-a46c-426e-a83b-64ca6a39a8db"
   },
   "outputs": [
    {
     "name": "stdout",
     "output_type": "stream",
     "text": [
      "0    0\n",
      "1    1\n",
      "2    0\n",
      "3    1\n",
      "4    0\n",
      "Name: CODE_GENDER_F, dtype: uint8\n",
      "0    1\n",
      "1    0\n",
      "2    1\n",
      "3    0\n",
      "4    1\n",
      "Name: CODE_GENDER_M, dtype: uint8\n",
      "0    0\n",
      "1    0\n",
      "2    0\n",
      "3    0\n",
      "4    0\n",
      "Name: NAME_EDUCATION_TYPE_Academic degree, dtype: uint8\n"
     ]
    }
   ],
   "source": [
    "app_train = pd.get_dummies(app_train)\n",
    "app_test = pd.get_dummies(app_test)\n",
    "\n",
    "print(app_train['CODE_GENDER_F'].head())\n",
    "print(app_train['CODE_GENDER_M'].head())\n",
    "print(app_train['NAME_EDUCATION_TYPE_Academic degree'].head())"
   ]
  },
  {
   "cell_type": "markdown",
   "metadata": {
    "colab_type": "text",
    "id": "PjD5fHUfVblp"
   },
   "source": [
    "可以觀察到原來的類別型欄位都轉為 0/1 了"
   ]
  },
  {
   "cell_type": "markdown",
   "metadata": {
    "colab": {},
    "colab_type": "code",
    "id": "d5IeEcPVVblq"
   },
   "source": [
    "## 作業\n",
    "將下列部分資料片段 sub_train 使用 One Hot encoding, 並觀察轉換前後的欄位數量 (使用 shape) 與欄位名稱 (使用 head) 變化"
   ]
  },
  {
   "cell_type": "code",
   "execution_count": 17,
   "metadata": {},
   "outputs": [
    {
     "name": "stdout",
     "output_type": "stream",
     "text": [
      "(307511, 1)\n"
     ]
    },
    {
     "data": {
      "text/html": [
       "<div>\n",
       "<style scoped>\n",
       "    .dataframe tbody tr th:only-of-type {\n",
       "        vertical-align: middle;\n",
       "    }\n",
       "\n",
       "    .dataframe tbody tr th {\n",
       "        vertical-align: top;\n",
       "    }\n",
       "\n",
       "    .dataframe thead th {\n",
       "        text-align: right;\n",
       "    }\n",
       "</style>\n",
       "<table border=\"1\" class=\"dataframe\">\n",
       "  <thead>\n",
       "    <tr style=\"text-align: right;\">\n",
       "      <th></th>\n",
       "      <th>WEEKDAY_APPR_PROCESS_START</th>\n",
       "    </tr>\n",
       "  </thead>\n",
       "  <tbody>\n",
       "    <tr>\n",
       "      <th>0</th>\n",
       "      <td>WEDNESDAY</td>\n",
       "    </tr>\n",
       "    <tr>\n",
       "      <th>1</th>\n",
       "      <td>MONDAY</td>\n",
       "    </tr>\n",
       "    <tr>\n",
       "      <th>2</th>\n",
       "      <td>MONDAY</td>\n",
       "    </tr>\n",
       "    <tr>\n",
       "      <th>3</th>\n",
       "      <td>WEDNESDAY</td>\n",
       "    </tr>\n",
       "    <tr>\n",
       "      <th>4</th>\n",
       "      <td>THURSDAY</td>\n",
       "    </tr>\n",
       "  </tbody>\n",
       "</table>\n",
       "</div>"
      ],
      "text/plain": [
       "  WEEKDAY_APPR_PROCESS_START\n",
       "0                  WEDNESDAY\n",
       "1                     MONDAY\n",
       "2                     MONDAY\n",
       "3                  WEDNESDAY\n",
       "4                   THURSDAY"
      ]
     },
     "execution_count": 17,
     "metadata": {},
     "output_type": "execute_result"
    }
   ],
   "source": [
    "app_train = pd.read_csv(f_app_train)\n",
    "sub_train = pd.DataFrame(app_train['WEEKDAY_APPR_PROCESS_START'])\n",
    "print(sub_train.shape)\n",
    "sub_train.head()"
   ]
  },
  {
   "cell_type": "code",
   "execution_count": 19,
   "metadata": {},
   "outputs": [
    {
     "name": "stdout",
     "output_type": "stream",
     "text": [
      "(307511, 7)\n"
     ]
    },
    {
     "data": {
      "text/html": [
       "<div>\n",
       "<style scoped>\n",
       "    .dataframe tbody tr th:only-of-type {\n",
       "        vertical-align: middle;\n",
       "    }\n",
       "\n",
       "    .dataframe tbody tr th {\n",
       "        vertical-align: top;\n",
       "    }\n",
       "\n",
       "    .dataframe thead th {\n",
       "        text-align: right;\n",
       "    }\n",
       "</style>\n",
       "<table border=\"1\" class=\"dataframe\">\n",
       "  <thead>\n",
       "    <tr style=\"text-align: right;\">\n",
       "      <th></th>\n",
       "      <th>WEEKDAY_APPR_PROCESS_START_FRIDAY</th>\n",
       "      <th>WEEKDAY_APPR_PROCESS_START_MONDAY</th>\n",
       "      <th>WEEKDAY_APPR_PROCESS_START_SATURDAY</th>\n",
       "      <th>WEEKDAY_APPR_PROCESS_START_SUNDAY</th>\n",
       "      <th>WEEKDAY_APPR_PROCESS_START_THURSDAY</th>\n",
       "      <th>WEEKDAY_APPR_PROCESS_START_TUESDAY</th>\n",
       "      <th>WEEKDAY_APPR_PROCESS_START_WEDNESDAY</th>\n",
       "    </tr>\n",
       "  </thead>\n",
       "  <tbody>\n",
       "    <tr>\n",
       "      <th>0</th>\n",
       "      <td>0</td>\n",
       "      <td>0</td>\n",
       "      <td>0</td>\n",
       "      <td>0</td>\n",
       "      <td>0</td>\n",
       "      <td>0</td>\n",
       "      <td>1</td>\n",
       "    </tr>\n",
       "    <tr>\n",
       "      <th>1</th>\n",
       "      <td>0</td>\n",
       "      <td>1</td>\n",
       "      <td>0</td>\n",
       "      <td>0</td>\n",
       "      <td>0</td>\n",
       "      <td>0</td>\n",
       "      <td>0</td>\n",
       "    </tr>\n",
       "    <tr>\n",
       "      <th>2</th>\n",
       "      <td>0</td>\n",
       "      <td>1</td>\n",
       "      <td>0</td>\n",
       "      <td>0</td>\n",
       "      <td>0</td>\n",
       "      <td>0</td>\n",
       "      <td>0</td>\n",
       "    </tr>\n",
       "    <tr>\n",
       "      <th>3</th>\n",
       "      <td>0</td>\n",
       "      <td>0</td>\n",
       "      <td>0</td>\n",
       "      <td>0</td>\n",
       "      <td>0</td>\n",
       "      <td>0</td>\n",
       "      <td>1</td>\n",
       "    </tr>\n",
       "    <tr>\n",
       "      <th>4</th>\n",
       "      <td>0</td>\n",
       "      <td>0</td>\n",
       "      <td>0</td>\n",
       "      <td>0</td>\n",
       "      <td>1</td>\n",
       "      <td>0</td>\n",
       "      <td>0</td>\n",
       "    </tr>\n",
       "  </tbody>\n",
       "</table>\n",
       "</div>"
      ],
      "text/plain": [
       "   WEEKDAY_APPR_PROCESS_START_FRIDAY  WEEKDAY_APPR_PROCESS_START_MONDAY  \\\n",
       "0                                  0                                  0   \n",
       "1                                  0                                  1   \n",
       "2                                  0                                  1   \n",
       "3                                  0                                  0   \n",
       "4                                  0                                  0   \n",
       "\n",
       "   WEEKDAY_APPR_PROCESS_START_SATURDAY  WEEKDAY_APPR_PROCESS_START_SUNDAY  \\\n",
       "0                                    0                                  0   \n",
       "1                                    0                                  0   \n",
       "2                                    0                                  0   \n",
       "3                                    0                                  0   \n",
       "4                                    0                                  0   \n",
       "\n",
       "   WEEKDAY_APPR_PROCESS_START_THURSDAY  WEEKDAY_APPR_PROCESS_START_TUESDAY  \\\n",
       "0                                    0                                   0   \n",
       "1                                    0                                   0   \n",
       "2                                    0                                   0   \n",
       "3                                    0                                   0   \n",
       "4                                    1                                   0   \n",
       "\n",
       "   WEEKDAY_APPR_PROCESS_START_WEDNESDAY  \n",
       "0                                     1  \n",
       "1                                     0  \n",
       "2                                     0  \n",
       "3                                     1  \n",
       "4                                     0  "
      ]
     },
     "execution_count": 19,
     "metadata": {},
     "output_type": "execute_result"
    }
   ],
   "source": [
    "\"\"\"\n",
    "Your Code Here\n",
    "\"\"\"\n",
    "\n",
    "sub_train_new = pd.get_dummies(sub_train)\n",
    "\n",
    "print(sub_train_new.shape)\n",
    "sub_train_new.head()\n",
    "\n",
    "\n"
   ]
  }
 ],
 "metadata": {
  "colab": {
   "name": "Day_004_column_data_type.ipynb",
   "provenance": [],
   "version": "0.3.2"
  },
  "kernelspec": {
   "display_name": "Python 3",
   "language": "python",
   "name": "python3"
  },
  "language_info": {
   "codemirror_mode": {
    "name": "ipython",
    "version": 3
   },
   "file_extension": ".py",
   "mimetype": "text/x-python",
   "name": "python",
   "nbconvert_exporter": "python",
   "pygments_lexer": "ipython3",
   "version": "3.7.3"
  }
 },
 "nbformat": 4,
 "nbformat_minor": 1
}
