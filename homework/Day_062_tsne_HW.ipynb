{
 "cells": [
  {
   "cell_type": "markdown",
   "metadata": {},
   "source": [
    "# t-sne 觀察 : 流形還原"
   ]
  },
  {
   "cell_type": "markdown",
   "metadata": {
    "collapsed": true
   },
   "source": [
    "# [作業目標]\n",
    "- 試著模仿範例寫法, 觀察 S 形使用 t-SNE , 在不同困惑度 (perplexity) 下的流形還原效果"
   ]
  },
  {
   "cell_type": "markdown",
   "metadata": {
    "collapsed": true
   },
   "source": [
    "# [作業重點]\n",
    "- 使用 S 形資料集, 觀察 t-sne 在困惑度 (perplexity) 有所不同時, 流形還原的效果如何變化 (In[4], Out[4])\n",
    "- Hint : ax.scatter(Y[red, 0], Y[red, 1], c=\"r\") 與 ax.scatter(Y[green, 0], Y[green, 1], c=\"g\") 兩行改一行 ax.scatter(Y[:, 0], Y[:, 1], c=color)"
   ]
  },
  {
   "cell_type": "code",
   "execution_count": 1,
   "metadata": {},
   "outputs": [],
   "source": [
    "# 載入套件\n",
    "import numpy as np\n",
    "import matplotlib.pyplot as plt\n",
    "\n",
    "from matplotlib.ticker import NullFormatter\n",
    "from sklearn import manifold, datasets\n",
    "from time import time"
   ]
  },
  {
   "cell_type": "code",
   "execution_count": 2,
   "metadata": {},
   "outputs": [
    {
     "name": "stdout",
     "output_type": "stream",
     "text": [
      "circles, perplexity=4 in 1.1 sec\n",
      "circles, perplexity=6 in 1.1 sec\n",
      "circles, perplexity=9 in 1.2 sec\n",
      "circles, perplexity=14 in 1.2 sec\n",
      "circles, perplexity=21 in 1.3 sec\n",
      "circles, perplexity=30 in 1.4 sec\n",
      "circles, perplexity=45 in 1.7 sec\n",
      "circles, perplexity=66 in 1.5 sec\n",
      "circles, perplexity=100 in 2.2 sec\n"
     ]
    },
    {
     "data": {
      "image/png": "[encoded data removed]",
      "text/plain": [
       "<Figure size 1080x432 with 10 Axes>"
      ]
     },
     "metadata": {
      "needs_background": "light"
     },
     "output_type": "display_data"
    }
   ],
   "source": [
    "# 設定模型與繪圖參數\n",
    "n_samples = 300\n",
    "n_components = 2\n",
    "(fig, subplots) = plt.subplots(2, 5, figsize=(15, 6))\n",
    "perplexities = [4, 6, 9, 14, 21, 30, 45, 66, 100]\n",
    "\n",
    "# 設定S曲線資料點\n",
    "X, color = datasets.samples_generator.make_s_curve(n_samples, random_state=0)\n",
    "\n",
    "# 繪製資料原圖\n",
    "ax = subplots[0][0]\n",
    "ax.set_title(\"Original\")\n",
    "ax.scatter(X[:, 0], X[:, 2], c=color)\n",
    "ax.xaxis.set_major_formatter(NullFormatter())\n",
    "ax.yaxis.set_major_formatter(NullFormatter())\n",
    "plt.axis('tight')\n",
    "\n",
    "red = color == 0 # 將 y 為 0 的 index set 存成變數 red\n",
    "green = color == 1 # 將 y 為 1 的 index set 存成變數 green\n",
    "\n",
    "# 繪製不同 perplexity 下的 t-SNE 分群圖\n",
    "for i, perplexity in enumerate(perplexities):\n",
    "    if i<4:\n",
    "        ax = subplots[0][i+1]\n",
    "    else:\n",
    "        ax = subplots[1][i-4]\n",
    "\n",
    "    t0 = time()\n",
    "    tsne = manifold.TSNE(n_components=n_components, init='random',\n",
    "                         random_state=0, perplexity=perplexity)\n",
    "    Y = tsne.fit_transform(X)\n",
    "    t1 = time()\n",
    "    print(\"circles, perplexity=%d in %.2g sec\" % (perplexity, t1 - t0))\n",
    "    ax.set_title(\"Perplexity=%d\" % perplexity)\n",
    "    ax.scatter(Y[red, 0], Y[red, 1], c=\"r\")\n",
    "    ax.scatter(Y[green, 0], Y[green, 1], c=\"g\")\n",
    "    ax.xaxis.set_major_formatter(NullFormatter())\n",
    "    ax.yaxis.set_major_formatter(NullFormatter())\n",
    "    ax.axis('tight')\n",
    "    \n",
    "plt.show()"
   ]
  },
  {
   "cell_type": "markdown",
   "metadata": {},
   "source": [
    "# 作業\n",
    "* 將原始資料集換為S型圖, 觀察不同 perplexity 下的流形還原結果"
   ]
  },
  {
   "cell_type": "code",
   "execution_count": null,
   "metadata": {
    "collapsed": true
   },
   "outputs": [],
   "source": []
  }
 ],
 "metadata": {
  "kernelspec": {
   "display_name": "Python 3",
   "language": "python",
   "name": "python3"
  },
  "language_info": {
   "codemirror_mode": {
    "name": "ipython",
    "version": 3
   },
   "file_extension": ".py",
   "mimetype": "text/x-python",
   "name": "python",
   "nbconvert_exporter": "python",
   "pygments_lexer": "ipython3",
   "version": "3.7.3"
  }
 },
 "nbformat": 4,
 "nbformat_minor": 1
}
