{
  "nbformat": 4,
  "nbformat_minor": 0,
  "metadata": {
    "kernelspec": {
      "display_name": "Python 3",
      "language": "python",
      "name": "python3"
    },
    "language_info": {
      "codemirror_mode": {
        "name": "ipython",
        "version": 3
      },
      "file_extension": ".py",
      "mimetype": "text/x-python",
      "name": "python",
      "nbconvert_exporter": "python",
      "pygments_lexer": "ipython3",
      "version": "3.7.0"
    },
    "colab": {
      "name": "Day73_Gradient_Descent_HW.ipynb",
      "provenance": [],
      "collapsed_sections": []
    }
  },
  "cells": [
    {
      "cell_type": "markdown",
      "metadata": {
        "id": "HqfGheZMpj3n",
        "colab_type": "text"
      },
      "source": [
        "# 作業重點\n",
        "\n",
        "使用function y=(x+5)² 來練習學習率( leanrning rate ) 調整所造成的影響"
      ]
    },
    {
      "cell_type": "markdown",
      "metadata": {
        "id": "UG6eotuUpj3v",
        "colab_type": "text"
      },
      "source": [
        "# 作業目標:\n",
        "    請嘗試使用不同的組合驗證 learning rate 對所需 iteration 的影響\n",
        "    lr = [0.1, 0.0001]\n",
        "    主要驗證 Lr 對於grandient 收斂的速度\n",
        "    "
      ]
    },
    {
      "cell_type": "code",
      "metadata": {
        "id": "BHcBpFUQpj3z",
        "colab_type": "code",
        "colab": {}
      },
      "source": [
        "cur_x = 3 # The algorithm starts at x=3\n",
        "precision = 0.000001 #This tells us when to stop the algorithm\n",
        "max_iters = 10000 # maximum number of iterations\n",
        "df = lambda x: 2*(x+5) #Gradient of our function "
      ],
      "execution_count": 0,
      "outputs": []
    },
    {
      "cell_type": "code",
      "metadata": {
        "scrolled": false,
        "id": "gFnes4t4pj4A",
        "colab_type": "code",
        "colab": {
          "base_uri": "https://localhost:8080/",
          "height": 72
        },
        "outputId": "15d9b53e-3c0b-4651-ca07-2c289c4a8020"
      },
      "source": [
        "lr = 0.1\n",
        "previous_step_size = 1\n",
        "iters = 0\n",
        "\n",
        "\n",
        "while previous_step_size > precision and iters < max_iters:\n",
        "    prev_x = cur_x #Store current x value in prev_x\n",
        "    cur_x = cur_x - lr * df(prev_x) #Gradient descent\n",
        "    previous_step_size = abs(cur_x - prev_x) # 取較大的值, Change in x\n",
        "    iters = iters+1 #iteration count\n",
        "    #print(\"Iteration\",iters,\"\\nX value is\",cur_x) #Print iterations\n",
        "     # Store parameters for plotting\n",
        "    iters_history.append(iters)\n",
        "    x_history.append(cur_x)\n",
        "\n",
        "\n",
        "print(\"the learning rate is\",lr, \"\\nIteration\",iters,\"\\nX value is\",cur_x) #Print iterations\n"
      ],
      "execution_count": 11,
      "outputs": [
        {
          "output_type": "stream",
          "text": [
            "the learning rate is 0.1 \n",
            "Iteration 1 \n",
            "X value is -4.99999735287253\n"
          ],
          "name": "stdout"
        }
      ]
    },
    {
      "cell_type": "code",
      "metadata": {
        "id": "3Mpy-9Hir_AT",
        "colab_type": "code",
        "colab": {
          "base_uri": "https://localhost:8080/",
          "height": 72
        },
        "outputId": "c50ee050-4e7d-4696-8a74-fbef05869ae0"
      },
      "source": [
        "lr = 0.0001\n",
        "previous_step_size = 1\n",
        "iters = 0\n",
        "\n",
        "\n",
        "while previous_step_size > precision and iters < max_iters:\n",
        "    prev_x = cur_x #Store current x value in prev_x\n",
        "    cur_x = cur_x - lr * df(prev_x) #Gradient descent\n",
        "    previous_step_size = abs(cur_x - prev_x) # 取較大的值, Change in x\n",
        "    iters = iters+1 #iteration count\n",
        "    #print(\"Iteration\",iters,\"\\nX value is\",cur_x) #Print iterations\n",
        "     # Store parameters for plotting\n",
        "    iters_history.append(iters)\n",
        "    x_history.append(cur_x)\n",
        "\n",
        "\n",
        "print(\"the learning rate is\",lr, \"\\nIteration\",iters,\"\\nX value is\",cur_x) #Print iterations"
      ],
      "execution_count": 13,
      "outputs": [
        {
          "output_type": "stream",
          "text": [
            "the learning rate is 0.0001 \n",
            "Iteration 10000 \n",
            "X value is -3.917534277778167\n"
          ],
          "name": "stdout"
        }
      ]
    },
    {
      "cell_type": "code",
      "metadata": {
        "id": "0KpgfRrJpj4K",
        "colab_type": "code",
        "colab": {}
      },
      "source": [
        ""
      ],
      "execution_count": 0,
      "outputs": []
    }
  ]
}