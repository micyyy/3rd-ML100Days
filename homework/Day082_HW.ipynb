{
  "nbformat": 4,
  "nbformat_minor": 0,
  "metadata": {
    "kernelspec": {
      "name": "python3",
      "display_name": "Python 3"
    },
    "language_info": {
      "codemirror_mode": {
        "name": "ipython",
        "version": 3
      },
      "file_extension": ".py",
      "mimetype": "text/x-python",
      "name": "python",
      "nbconvert_exporter": "python",
      "pygments_lexer": "ipython3",
      "version": "3.6.5"
    },
    "colab": {
      "name": "Day082_HW.ipynb",
      "provenance": [],
      "collapsed_sections": []
    },
    "accelerator": "GPU"
  },
  "cells": [
    {
      "cell_type": "markdown",
      "metadata": {
        "id": "IKZrVThZjsgy",
        "colab_type": "text"
      },
      "source": [
        "## Work\n",
        "1. 請比較使用不同層數以及不同 Dropout rate 對訓練的效果\n",
        "2. 將 optimizer 改成使用 Adam 並加上適當的 dropout rate 檢視結果"
      ]
    },
    {
      "cell_type": "code",
      "metadata": {
        "id": "3TuLWvvjjsg1",
        "colab_type": "code",
        "outputId": "6143cc37-92a7-467e-b3de-1f9ef550c892",
        "colab": {
          "base_uri": "https://localhost:8080/",
          "height": 97
        }
      },
      "source": [
        "import os\n",
        "import keras\n",
        "import itertools\n",
        "# Disable GPU\n",
        "os.environ[\"CUDA_VISIBLE_DEVICES\"] = \"\""
      ],
      "execution_count": 0,
      "outputs": [
        {
          "output_type": "stream",
          "text": [
            "Using TensorFlow backend.\n"
          ],
          "name": "stderr"
        },
        {
          "output_type": "display_data",
          "data": {
            "text/html": [
              "<p style=\"color: red;\">\n",
              "The default version of TensorFlow in Colab will soon switch to TensorFlow 2.x.<br>\n",
              "We recommend you <a href=\"https://www.tensorflow.org/guide/migrate\" target=\"_blank\">upgrade</a> now \n",
              "or ensure your notebook will continue to use TensorFlow 1.x via the <code>%tensorflow_version 1.x</code> magic:\n",
              "<a href=\"https://colab.research.google.com/notebooks/tensorflow_version.ipynb\" target=\"_blank\">more info</a>.</p>\n"
            ],
            "text/plain": [
              "<IPython.core.display.HTML object>"
            ]
          },
          "metadata": {
            "tags": []
          }
        }
      ]
    },
    {
      "cell_type": "code",
      "metadata": {
        "id": "O-2kfh4Pjsg4",
        "colab_type": "code",
        "outputId": "fd9c5f37-9850-4f03-f4e8-f09f6cfa64ad",
        "colab": {
          "base_uri": "https://localhost:8080/",
          "height": 51
        }
      },
      "source": [
        "train, test = keras.datasets.cifar10.load_data()"
      ],
      "execution_count": 0,
      "outputs": [
        {
          "output_type": "stream",
          "text": [
            "Downloading data from https://www.cs.toronto.edu/~kriz/cifar-10-python.tar.gz\n",
            "170500096/170498071 [==============================] - 4s 0us/step\n"
          ],
          "name": "stdout"
        }
      ]
    },
    {
      "cell_type": "code",
      "metadata": {
        "id": "5aXmeDC5jsg7",
        "colab_type": "code",
        "colab": {}
      },
      "source": [
        "## 資料前處理\n",
        "def preproc_x(x, flatten=True):\n",
        "    x = x / 255.\n",
        "    if flatten:\n",
        "        x = x.reshape((len(x), -1))\n",
        "    return x\n",
        "\n",
        "def preproc_y(y, num_classes=10):\n",
        "    if y.shape[-1] == 1:\n",
        "        y = keras.utils.to_categorical(y, num_classes)\n",
        "    return y    "
      ],
      "execution_count": 0,
      "outputs": []
    },
    {
      "cell_type": "code",
      "metadata": {
        "id": "MUgLTIFajsg9",
        "colab_type": "code",
        "colab": {}
      },
      "source": [
        "x_train, y_train = train\n",
        "x_test, y_test = test\n",
        "\n",
        "# Preproc the inputs\n",
        "x_train = preproc_x(x_train)\n",
        "x_test = preproc_x(x_test)\n",
        "\n",
        "# Preprc the outputs\n",
        "y_train = preproc_y(y_train)\n",
        "y_test = preproc_y(y_test)"
      ],
      "execution_count": 0,
      "outputs": []
    },
    {
      "cell_type": "code",
      "metadata": {
        "id": "1vAcW_CbjshA",
        "colab_type": "code",
        "colab": {}
      },
      "source": [
        "from keras.layers import Dropout\n",
        "\n",
        "def build_mlp(input_shape, output_units=10, num_neurons=[512, 256, 128], drp_ratio=0.2):\n",
        "    input_layer = keras.layers.Input(input_shape)\n",
        "    \n",
        "    for i, n_units in enumerate(num_neurons):\n",
        "        if i == 0:\n",
        "            x = keras.layers.Dense(units=n_units, \n",
        "                                   activation=\"relu\", \n",
        "                                   name=\"hidden_layer\"+str(i+1))(input_layer)\n",
        "            x = Dropout(drp_ratio)(x)\n",
        "        else:\n",
        "            x = keras.layers.Dense(units=n_units, \n",
        "                                   activation=\"relu\", \n",
        "                                   name=\"hidden_layer\"+str(i+1))(x)\n",
        "            x = Dropout(drp_ratio)(x)\n",
        "    \n",
        "    out = keras.layers.Dense(units=output_units, activation=\"softmax\", name=\"output\")(x)\n",
        "    \n",
        "    model = keras.models.Model(inputs=[input_layer], outputs=[out])\n",
        "    return model"
      ],
      "execution_count": 0,
      "outputs": []
    },
    {
      "cell_type": "code",
      "metadata": {
        "id": "-lDBXUVyjshD",
        "colab_type": "code",
        "colab": {}
      },
      "source": [
        "\"\"\"Code Here\n",
        "設定超參數\n",
        "\"\"\"\n",
        "LEARNING_RATE = 1e-3\n",
        "EPOCHS = 50\n",
        "BATCH_SIZE = 256\n",
        "MOMENTUM = 0.95\n",
        "Dropout_EXP = 0.25"
      ],
      "execution_count": 0,
      "outputs": []
    },
    {
      "cell_type": "code",
      "metadata": {
        "scrolled": true,
        "id": "1kqAV_UkjshF",
        "colab_type": "code",
        "outputId": "1c141bfd-7772-46b3-ed71-b29a07cdaabe",
        "colab": {
          "base_uri": "https://localhost:8080/",
          "height": 1000
        }
      },
      "source": [
        "results = {}\n",
        "\"\"\"Code Here\n",
        "撰寫你的訓練流程並將結果用 dictionary 紀錄\n",
        "\"\"\"\n",
        "model = build_mlp(input_shape=x_train.shape[1:], drp_ratio=Dropout_EXP)\n",
        "model.summary()\n",
        "#optimizer = keras.optimizers.SGD(lr=LEARNING_RATE, nesterov=True, momentum=MOMENTUM)\n",
        "optimizer = keras.optimizers.adam(lr=LEARNING_RATE)\n",
        "model.compile(loss=\"categorical_crossentropy\", metrics=[\"accuracy\"], optimizer=optimizer)\n",
        "\n",
        "model.fit(x_train, y_train, \n",
        "          epochs=EPOCHS, \n",
        "          batch_size=BATCH_SIZE, \n",
        "          validation_data=(x_test, y_test), \n",
        "          shuffle=True)\n",
        "\n",
        "# Collect results\n",
        "train_loss = model.history.history[\"loss\"]\n",
        "valid_loss = model.history.history[\"val_loss\"]\n",
        "train_acc = model.history.history[\"acc\"]\n",
        "valid_acc = model.history.history[\"val_acc\"]\n",
        "\n",
        "results['loss'] = train_loss\n",
        "results['val_loss'] = valid_loss\n",
        "results['acc'] = train_acc\n",
        "results['val_acc'] = valid_acc"
      ],
      "execution_count": 0,
      "outputs": [
        {
          "output_type": "stream",
          "text": [
            "WARNING:tensorflow:From /usr/local/lib/python3.6/dist-packages/keras/backend/tensorflow_backend.py:66: The name tf.get_default_graph is deprecated. Please use tf.compat.v1.get_default_graph instead.\n",
            "\n",
            "WARNING:tensorflow:From /usr/local/lib/python3.6/dist-packages/keras/backend/tensorflow_backend.py:541: The name tf.placeholder is deprecated. Please use tf.compat.v1.placeholder instead.\n",
            "\n",
            "WARNING:tensorflow:From /usr/local/lib/python3.6/dist-packages/keras/backend/tensorflow_backend.py:4432: The name tf.random_uniform is deprecated. Please use tf.random.uniform instead.\n",
            "\n",
            "WARNING:tensorflow:From /usr/local/lib/python3.6/dist-packages/keras/backend/tensorflow_backend.py:148: The name tf.placeholder_with_default is deprecated. Please use tf.compat.v1.placeholder_with_default instead.\n",
            "\n",
            "WARNING:tensorflow:From /usr/local/lib/python3.6/dist-packages/keras/backend/tensorflow_backend.py:3733: calling dropout (from tensorflow.python.ops.nn_ops) with keep_prob is deprecated and will be removed in a future version.\n",
            "Instructions for updating:\n",
            "Please use `rate` instead of `keep_prob`. Rate should be set to `rate = 1 - keep_prob`.\n",
            "Model: \"model_1\"\n",
            "_________________________________________________________________\n",
            "Layer (type)                 Output Shape              Param #   \n",
            "=================================================================\n",
            "input_1 (InputLayer)         (None, 3072)              0         \n",
            "_________________________________________________________________\n",
            "hidden_layer1 (Dense)        (None, 512)               1573376   \n",
            "_________________________________________________________________\n",
            "dropout_1 (Dropout)          (None, 512)               0         \n",
            "_________________________________________________________________\n",
            "hidden_layer2 (Dense)        (None, 256)               131328    \n",
            "_________________________________________________________________\n",
            "dropout_2 (Dropout)          (None, 256)               0         \n",
            "_________________________________________________________________\n",
            "hidden_layer3 (Dense)        (None, 128)               32896     \n",
            "_________________________________________________________________\n",
            "dropout_3 (Dropout)          (None, 128)               0         \n",
            "_________________________________________________________________\n",
            "output (Dense)               (None, 10)                1290      \n",
            "=================================================================\n",
            "Total params: 1,738,890\n",
            "Trainable params: 1,738,890\n",
            "Non-trainable params: 0\n",
            "_________________________________________________________________\n",
            "WARNING:tensorflow:From /usr/local/lib/python3.6/dist-packages/keras/optimizers.py:793: The name tf.train.Optimizer is deprecated. Please use tf.compat.v1.train.Optimizer instead.\n",
            "\n",
            "WARNING:tensorflow:From /usr/local/lib/python3.6/dist-packages/keras/backend/tensorflow_backend.py:3576: The name tf.log is deprecated. Please use tf.math.log instead.\n",
            "\n",
            "WARNING:tensorflow:From /usr/local/lib/python3.6/dist-packages/tensorflow_core/python/ops/math_grad.py:1424: where (from tensorflow.python.ops.array_ops) is deprecated and will be removed in a future version.\n",
            "Instructions for updating:\n",
            "Use tf.where in 2.0, which has the same broadcast rule as np.where\n",
            "WARNING:tensorflow:From /usr/local/lib/python3.6/dist-packages/keras/backend/tensorflow_backend.py:1033: The name tf.assign_add is deprecated. Please use tf.compat.v1.assign_add instead.\n",
            "\n",
            "WARNING:tensorflow:From /usr/local/lib/python3.6/dist-packages/keras/backend/tensorflow_backend.py:1020: The name tf.assign is deprecated. Please use tf.compat.v1.assign instead.\n",
            "\n",
            "WARNING:tensorflow:From /usr/local/lib/python3.6/dist-packages/keras/backend/tensorflow_backend.py:3005: The name tf.Session is deprecated. Please use tf.compat.v1.Session instead.\n",
            "\n",
            "Train on 50000 samples, validate on 10000 samples\n",
            "Epoch 1/50\n",
            "WARNING:tensorflow:From /usr/local/lib/python3.6/dist-packages/keras/backend/tensorflow_backend.py:190: The name tf.get_default_session is deprecated. Please use tf.compat.v1.get_default_session instead.\n",
            "\n",
            "WARNING:tensorflow:From /usr/local/lib/python3.6/dist-packages/keras/backend/tensorflow_backend.py:197: The name tf.ConfigProto is deprecated. Please use tf.compat.v1.ConfigProto instead.\n",
            "\n",
            "WARNING:tensorflow:From /usr/local/lib/python3.6/dist-packages/keras/backend/tensorflow_backend.py:207: The name tf.global_variables is deprecated. Please use tf.compat.v1.global_variables instead.\n",
            "\n",
            "WARNING:tensorflow:From /usr/local/lib/python3.6/dist-packages/keras/backend/tensorflow_backend.py:216: The name tf.is_variable_initialized is deprecated. Please use tf.compat.v1.is_variable_initialized instead.\n",
            "\n",
            "WARNING:tensorflow:From /usr/local/lib/python3.6/dist-packages/keras/backend/tensorflow_backend.py:223: The name tf.variables_initializer is deprecated. Please use tf.compat.v1.variables_initializer instead.\n",
            "\n",
            "50000/50000 [==============================] - 12s 233us/step - loss: 2.0595 - acc: 0.2430 - val_loss: 1.8624 - val_acc: 0.3157\n",
            "Epoch 2/50\n",
            "50000/50000 [==============================] - 11s 225us/step - loss: 1.8804 - acc: 0.3146 - val_loss: 1.7637 - val_acc: 0.3653\n",
            "Epoch 3/50\n",
            "50000/50000 [==============================] - 11s 225us/step - loss: 1.8246 - acc: 0.3403 - val_loss: 1.7291 - val_acc: 0.3835\n",
            "Epoch 4/50\n",
            "50000/50000 [==============================] - 11s 222us/step - loss: 1.7909 - acc: 0.3524 - val_loss: 1.7113 - val_acc: 0.3897\n",
            "Epoch 5/50\n",
            "50000/50000 [==============================] - 11s 215us/step - loss: 1.7702 - acc: 0.3594 - val_loss: 1.6675 - val_acc: 0.4129\n",
            "Epoch 6/50\n",
            "50000/50000 [==============================] - 11s 214us/step - loss: 1.7493 - acc: 0.3686 - val_loss: 1.6460 - val_acc: 0.4237\n",
            "Epoch 7/50\n",
            "50000/50000 [==============================] - 11s 214us/step - loss: 1.7164 - acc: 0.3821 - val_loss: 1.6484 - val_acc: 0.4238\n",
            "Epoch 8/50\n",
            "50000/50000 [==============================] - 11s 211us/step - loss: 1.6987 - acc: 0.3878 - val_loss: 1.6133 - val_acc: 0.4280\n",
            "Epoch 9/50\n",
            "50000/50000 [==============================] - 10s 209us/step - loss: 1.6879 - acc: 0.3946 - val_loss: 1.6294 - val_acc: 0.4205\n",
            "Epoch 10/50\n",
            "50000/50000 [==============================] - 11s 211us/step - loss: 1.6697 - acc: 0.3953 - val_loss: 1.6244 - val_acc: 0.4191\n",
            "Epoch 11/50\n",
            "50000/50000 [==============================] - 11s 211us/step - loss: 1.6621 - acc: 0.4002 - val_loss: 1.5785 - val_acc: 0.4386\n",
            "Epoch 12/50\n",
            "50000/50000 [==============================] - 10s 209us/step - loss: 1.6528 - acc: 0.4053 - val_loss: 1.5710 - val_acc: 0.4469\n",
            "Epoch 13/50\n",
            "50000/50000 [==============================] - 11s 210us/step - loss: 1.6471 - acc: 0.4066 - val_loss: 1.5865 - val_acc: 0.4370\n",
            "Epoch 14/50\n",
            "50000/50000 [==============================] - 10s 207us/step - loss: 1.6411 - acc: 0.4099 - val_loss: 1.5646 - val_acc: 0.4478\n",
            "Epoch 15/50\n",
            "50000/50000 [==============================] - 10s 203us/step - loss: 1.6195 - acc: 0.4155 - val_loss: 1.5650 - val_acc: 0.4459\n",
            "Epoch 16/50\n",
            "50000/50000 [==============================] - 10s 204us/step - loss: 1.6124 - acc: 0.4188 - val_loss: 1.5509 - val_acc: 0.4528\n",
            "Epoch 17/50\n",
            "50000/50000 [==============================] - 11s 224us/step - loss: 1.6116 - acc: 0.4187 - val_loss: 1.5626 - val_acc: 0.4474\n",
            "Epoch 18/50\n",
            "50000/50000 [==============================] - 10s 209us/step - loss: 1.6015 - acc: 0.4234 - val_loss: 1.5239 - val_acc: 0.4660\n",
            "Epoch 19/50\n",
            "50000/50000 [==============================] - 11s 213us/step - loss: 1.5903 - acc: 0.4274 - val_loss: 1.5105 - val_acc: 0.4748\n",
            "Epoch 20/50\n",
            "50000/50000 [==============================] - 11s 213us/step - loss: 1.5876 - acc: 0.4271 - val_loss: 1.5338 - val_acc: 0.4633\n",
            "Epoch 21/50\n",
            "50000/50000 [==============================] - 11s 214us/step - loss: 1.5747 - acc: 0.4347 - val_loss: 1.5131 - val_acc: 0.4625\n",
            "Epoch 22/50\n",
            "50000/50000 [==============================] - 11s 210us/step - loss: 1.5679 - acc: 0.4349 - val_loss: 1.5099 - val_acc: 0.4662\n",
            "Epoch 23/50\n",
            "50000/50000 [==============================] - 11s 212us/step - loss: 1.5714 - acc: 0.4347 - val_loss: 1.5019 - val_acc: 0.4740\n",
            "Epoch 24/50\n",
            "50000/50000 [==============================] - 11s 212us/step - loss: 1.5644 - acc: 0.4373 - val_loss: 1.4967 - val_acc: 0.4761\n",
            "Epoch 25/50\n",
            "50000/50000 [==============================] - 11s 210us/step - loss: 1.5627 - acc: 0.4390 - val_loss: 1.5074 - val_acc: 0.4627\n",
            "Epoch 26/50\n",
            "50000/50000 [==============================] - 10s 209us/step - loss: 1.5549 - acc: 0.4439 - val_loss: 1.4917 - val_acc: 0.4767\n",
            "Epoch 27/50\n",
            "50000/50000 [==============================] - 11s 214us/step - loss: 1.5594 - acc: 0.4422 - val_loss: 1.5064 - val_acc: 0.4679\n",
            "Epoch 28/50\n",
            "50000/50000 [==============================] - 10s 207us/step - loss: 1.5466 - acc: 0.4442 - val_loss: 1.4727 - val_acc: 0.4787\n",
            "Epoch 29/50\n",
            "50000/50000 [==============================] - 10s 207us/step - loss: 1.5393 - acc: 0.4440 - val_loss: 1.4829 - val_acc: 0.4727\n",
            "Epoch 30/50\n",
            "50000/50000 [==============================] - 10s 206us/step - loss: 1.5489 - acc: 0.4439 - val_loss: 1.4728 - val_acc: 0.4863\n",
            "Epoch 31/50\n",
            "50000/50000 [==============================] - 10s 208us/step - loss: 1.5382 - acc: 0.4471 - val_loss: 1.4812 - val_acc: 0.4732\n",
            "Epoch 32/50\n",
            "50000/50000 [==============================] - 11s 216us/step - loss: 1.5277 - acc: 0.4514 - val_loss: 1.4668 - val_acc: 0.4785\n",
            "Epoch 33/50\n",
            "50000/50000 [==============================] - 11s 211us/step - loss: 1.5255 - acc: 0.4520 - val_loss: 1.4685 - val_acc: 0.4848\n",
            "Epoch 34/50\n",
            "50000/50000 [==============================] - 11s 211us/step - loss: 1.5198 - acc: 0.4536 - val_loss: 1.4835 - val_acc: 0.4815\n",
            "Epoch 35/50\n",
            "50000/50000 [==============================] - 10s 210us/step - loss: 1.5242 - acc: 0.4512 - val_loss: 1.4503 - val_acc: 0.4902\n",
            "Epoch 36/50\n",
            "50000/50000 [==============================] - 10s 206us/step - loss: 1.5156 - acc: 0.4571 - val_loss: 1.4641 - val_acc: 0.4866\n",
            "Epoch 37/50\n",
            "50000/50000 [==============================] - 10s 209us/step - loss: 1.5179 - acc: 0.4552 - val_loss: 1.4621 - val_acc: 0.4873\n",
            "Epoch 38/50\n",
            "50000/50000 [==============================] - 11s 210us/step - loss: 1.5070 - acc: 0.4599 - val_loss: 1.4693 - val_acc: 0.4862\n",
            "Epoch 39/50\n",
            "50000/50000 [==============================] - 10s 207us/step - loss: 1.5018 - acc: 0.4598 - val_loss: 1.4835 - val_acc: 0.4749\n",
            "Epoch 40/50\n",
            "50000/50000 [==============================] - 10s 207us/step - loss: 1.5057 - acc: 0.4598 - val_loss: 1.4739 - val_acc: 0.4769\n",
            "Epoch 41/50\n",
            "50000/50000 [==============================] - 10s 206us/step - loss: 1.5103 - acc: 0.4605 - val_loss: 1.4693 - val_acc: 0.4842\n",
            "Epoch 42/50\n",
            "50000/50000 [==============================] - 11s 211us/step - loss: 1.4966 - acc: 0.4609 - val_loss: 1.4712 - val_acc: 0.4801\n",
            "Epoch 43/50\n",
            "50000/50000 [==============================] - 10s 209us/step - loss: 1.4987 - acc: 0.4624 - val_loss: 1.4520 - val_acc: 0.4839\n",
            "Epoch 44/50\n",
            "50000/50000 [==============================] - 10s 206us/step - loss: 1.4944 - acc: 0.4643 - val_loss: 1.4447 - val_acc: 0.4884\n",
            "Epoch 45/50\n",
            "50000/50000 [==============================] - 10s 202us/step - loss: 1.4839 - acc: 0.4678 - val_loss: 1.4747 - val_acc: 0.4834\n",
            "Epoch 46/50\n",
            "50000/50000 [==============================] - 10s 205us/step - loss: 1.4855 - acc: 0.4666 - val_loss: 1.4471 - val_acc: 0.4909\n",
            "Epoch 47/50\n",
            "50000/50000 [==============================] - 10s 203us/step - loss: 1.4831 - acc: 0.4684 - val_loss: 1.4449 - val_acc: 0.4893\n",
            "Epoch 48/50\n",
            "50000/50000 [==============================] - 10s 203us/step - loss: 1.4792 - acc: 0.4694 - val_loss: 1.4419 - val_acc: 0.4889\n",
            "Epoch 49/50\n",
            "50000/50000 [==============================] - 10s 203us/step - loss: 1.4864 - acc: 0.4664 - val_loss: 1.4433 - val_acc: 0.4937\n",
            "Epoch 50/50\n",
            "50000/50000 [==============================] - 10s 207us/step - loss: 1.4760 - acc: 0.4690 - val_loss: 1.4403 - val_acc: 0.4955\n"
          ],
          "name": "stdout"
        }
      ]
    },
    {
      "cell_type": "code",
      "metadata": {
        "id": "C5ksu9RqjshI",
        "colab_type": "code",
        "outputId": "a177bde0-8b23-4a5d-e9e0-f6cb024cd09b",
        "colab": {
          "base_uri": "https://localhost:8080/",
          "height": 545
        }
      },
      "source": [
        "import matplotlib.pyplot as plt\n",
        "%matplotlib inline\n",
        "\n",
        "plt.plot(range(len(train_loss)), train_loss, label=\"train loss\")\n",
        "plt.plot(range(len(valid_loss)), valid_loss, label=\"valid loss\")\n",
        "plt.legend()\n",
        "plt.title(\"Loss\")\n",
        "plt.show()\n",
        "\n",
        "plt.plot(range(len(train_acc)), train_acc, label=\"train accuracy\")\n",
        "plt.plot(range(len(valid_acc)), valid_acc, label=\"valid accuracy\")\n",
        "plt.legend()\n",
        "plt.title(\"Accuracy\")\n",
        "plt.show()"
      ],
      "execution_count": 0,
      "outputs": [
        {
          "output_type": "display_data",
          "data": {
            "image/png": "[encoded data removed]",
            "text/plain": [
              "<Figure size 432x288 with 1 Axes>"
            ]
          },
          "metadata": {
            "tags": []
          }
        },
        {
          "output_type": "display_data",
          "data": {
            "image/png": "[encoded data removed]",
            "text/plain": [
              "<Figure size 432x288 with 1 Axes>"
            ]
          },
          "metadata": {
            "tags": []
          }
        }
      ]
    }
  ]
}