{
  "nbformat": 4,
  "nbformat_minor": 0,
  "metadata": {
    "kernelspec": {
      "name": "python3",
      "display_name": "Python 3"
    },
    "language_info": {
      "codemirror_mode": {
        "name": "ipython",
        "version": 3
      },
      "file_extension": ".py",
      "mimetype": "text/x-python",
      "name": "python",
      "nbconvert_exporter": "python",
      "pygments_lexer": "ipython3",
      "version": "3.6.5"
    },
    "colab": {
      "name": "Day083_HW.ipynb",
      "provenance": [],
      "collapsed_sections": []
    },
    "accelerator": "GPU"
  },
  "cells": [
    {
      "cell_type": "markdown",
      "metadata": {
        "id": "8KIhgfrJyjgq",
        "colab_type": "text"
      },
      "source": [
        "## Work\n",
        "1. 試比較有 BN 在 Batch_size = 2, 16, 32, 128, 256 下的差異\n",
        "2. 請嘗試將 BN 放在 Activation 之前，並比較訓練結果\n",
        "3. 請於 BN 放在 Input Layer 後，並比較結果"
      ]
    },
    {
      "cell_type": "code",
      "metadata": {
        "id": "HcdA5XJ-yjgx",
        "colab_type": "code",
        "outputId": "5d952d4a-cf39-41d0-c2ed-9b99e6954925",
        "colab": {
          "base_uri": "https://localhost:8080/",
          "height": 101
        }
      },
      "source": [
        "import os\n",
        "import keras\n",
        "import itertools\n",
        "# Disable GPU\n",
        "#os.environ[\"CUDA_VISIBLE_DEVICES\"] = \"\""
      ],
      "execution_count": 1,
      "outputs": [
        {
          "output_type": "stream",
          "text": [
            "Using TensorFlow backend.\n"
          ],
          "name": "stderr"
        },
        {
          "output_type": "display_data",
          "data": {
            "text/html": [
              "<p style=\"color: red;\">\n",
              "The default version of TensorFlow in Colab will soon switch to TensorFlow 2.x.<br>\n",
              "We recommend you <a href=\"https://www.tensorflow.org/guide/migrate\" target=\"_blank\">upgrade</a> now \n",
              "or ensure your notebook will continue to use TensorFlow 1.x via the <code>%tensorflow_version 1.x</code> magic:\n",
              "<a href=\"https://colab.research.google.com/notebooks/tensorflow_version.ipynb\" target=\"_blank\">more info</a>.</p>\n"
            ],
            "text/plain": [
              "<IPython.core.display.HTML object>"
            ]
          },
          "metadata": {
            "tags": []
          }
        }
      ]
    },
    {
      "cell_type": "code",
      "metadata": {
        "id": "AXcfSKY2yjg9",
        "colab_type": "code",
        "outputId": "1cee2969-e980-450a-dddd-2431171db4df",
        "colab": {
          "base_uri": "https://localhost:8080/",
          "height": 54
        }
      },
      "source": [
        "train, test = keras.datasets.cifar10.load_data()"
      ],
      "execution_count": 2,
      "outputs": [
        {
          "output_type": "stream",
          "text": [
            "Downloading data from https://www.cs.toronto.edu/~kriz/cifar-10-python.tar.gz\n",
            "170500096/170498071 [==============================] - 6s 0us/step\n"
          ],
          "name": "stdout"
        }
      ]
    },
    {
      "cell_type": "code",
      "metadata": {
        "id": "Xt993qo9yjhG",
        "colab_type": "code",
        "colab": {}
      },
      "source": [
        "## 資料前處理\n",
        "def preproc_x(x, flatten=True):\n",
        "    x = x / 255.\n",
        "    if flatten:\n",
        "        x = x.reshape((len(x), -1))\n",
        "    return x\n",
        "\n",
        "def preproc_y(y, num_classes=10):\n",
        "    if y.shape[-1] == 1:\n",
        "        y = keras.utils.to_categorical(y, num_classes)\n",
        "    return y    "
      ],
      "execution_count": 0,
      "outputs": []
    },
    {
      "cell_type": "code",
      "metadata": {
        "id": "hYB2zVBWyjhN",
        "colab_type": "code",
        "colab": {}
      },
      "source": [
        "x_train, y_train = train\n",
        "x_test, y_test = test\n",
        "\n",
        "# Preproc the inputs\n",
        "x_train = preproc_x(x_train)\n",
        "x_test = preproc_x(x_test)\n",
        "\n",
        "# Preprc the outputs\n",
        "y_train = preproc_y(y_train)\n",
        "y_test = preproc_y(y_test)"
      ],
      "execution_count": 0,
      "outputs": []
    },
    {
      "cell_type": "code",
      "metadata": {
        "id": "MJSBfgUQyjhX",
        "colab_type": "code",
        "colab": {}
      },
      "source": [
        "from keras.layers import BatchNormalization\n",
        "\n",
        "\"\"\"\n",
        "建立神經網路，並加入 BN layer\n",
        "\"\"\"\n",
        "def build_mlp(input_shape, output_units=10, num_neurons=[512, 256, 128]):\n",
        "    input_layer = keras.layers.Input(input_shape)\n",
        "    \n",
        "    for i, n_units in enumerate(num_neurons):\n",
        "        if i == 0:\n",
        "            x = keras.layers.Dense(units=n_units, \n",
        "                                   activation=\"relu\", \n",
        "                                   name=\"hidden_layer\"+str(i+1))(input_layer)\n",
        "            x = BatchNormalization()(x)\n",
        "        else:\n",
        "            x = keras.layers.Dense(units=n_units, \n",
        "                                   activation=\"relu\", \n",
        "                                   name=\"hidden_layer\"+str(i+1))(x)\n",
        "            x = BatchNormalization()(x)\n",
        "    \n",
        "    out = keras.layers.Dense(units=output_units, activation=\"softmax\", name=\"output\")(x)\n",
        "    \n",
        "    model = keras.models.Model(inputs=[input_layer], outputs=[out])\n",
        "    return model"
      ],
      "execution_count": 0,
      "outputs": []
    },
    {
      "cell_type": "code",
      "metadata": {
        "id": "dbY2vm9ryjhd",
        "colab_type": "code",
        "colab": {}
      },
      "source": [
        "## 超參數設定\n",
        "LEARNING_RATE = 1e-3\n",
        "EPOCHS = 50\n",
        "BATCH_SIZE = 256\n",
        "MOMENTUM = 0.95"
      ],
      "execution_count": 0,
      "outputs": []
    },
    {
      "cell_type": "code",
      "metadata": {
        "scrolled": true,
        "id": "7kF8smuRyjhl",
        "colab_type": "code",
        "outputId": "e9a0606b-313a-4961-b3f9-5eb822364d18",
        "colab": {
          "base_uri": "https://localhost:8080/",
          "height": 1000
        }
      },
      "source": [
        "results = {}\n",
        "\"\"\"Code Here\n",
        "撰寫你的訓練流程並將結果用 dictionary 紀錄\n",
        "\"\"\"\n",
        "model = build_mlp(input_shape=x_train.shape[1:])\n",
        "model.summary()\n",
        "optimizer = keras.optimizers.SGD(lr=LEARNING_RATE, nesterov=True, momentum=MOMENTUM)\n",
        "model.compile(loss=\"categorical_crossentropy\", metrics=[\"accuracy\"], optimizer=optimizer)\n",
        "\n",
        "model.fit(x_train, y_train, \n",
        "          epochs=EPOCHS, \n",
        "          batch_size=BATCH_SIZE, \n",
        "          validation_data=(x_test, y_test), \n",
        "          shuffle=True)\n",
        "\n",
        "# Collect results\n",
        "train_loss = model.history.history[\"loss\"]\n",
        "valid_loss = model.history.history[\"val_loss\"]\n",
        "train_acc = model.history.history[\"acc\"]\n",
        "valid_acc = model.history.history[\"val_acc\"]\n",
        "\n",
        "results['loss'] = train_loss\n",
        "results['val_loss'] = valid_loss\n",
        "results['acc'] = train_acc\n",
        "results['val_acc'] = valid_acc"
      ],
      "execution_count": 7,
      "outputs": [
        {
          "output_type": "stream",
          "text": [
            "WARNING:tensorflow:From /usr/local/lib/python3.6/dist-packages/keras/backend/tensorflow_backend.py:66: The name tf.get_default_graph is deprecated. Please use tf.compat.v1.get_default_graph instead.\n",
            "\n",
            "WARNING:tensorflow:From /usr/local/lib/python3.6/dist-packages/keras/backend/tensorflow_backend.py:541: The name tf.placeholder is deprecated. Please use tf.compat.v1.placeholder instead.\n",
            "\n",
            "WARNING:tensorflow:From /usr/local/lib/python3.6/dist-packages/keras/backend/tensorflow_backend.py:4432: The name tf.random_uniform is deprecated. Please use tf.random.uniform instead.\n",
            "\n",
            "WARNING:tensorflow:From /usr/local/lib/python3.6/dist-packages/keras/backend/tensorflow_backend.py:148: The name tf.placeholder_with_default is deprecated. Please use tf.compat.v1.placeholder_with_default instead.\n",
            "\n",
            "Model: \"model_1\"\n",
            "_________________________________________________________________\n",
            "Layer (type)                 Output Shape              Param #   \n",
            "=================================================================\n",
            "input_1 (InputLayer)         (None, 3072)              0         \n",
            "_________________________________________________________________\n",
            "hidden_layer1 (Dense)        (None, 512)               1573376   \n",
            "_________________________________________________________________\n",
            "batch_normalization_1 (Batch (None, 512)               2048      \n",
            "_________________________________________________________________\n",
            "hidden_layer2 (Dense)        (None, 256)               131328    \n",
            "_________________________________________________________________\n",
            "batch_normalization_2 (Batch (None, 256)               1024      \n",
            "_________________________________________________________________\n",
            "hidden_layer3 (Dense)        (None, 128)               32896     \n",
            "_________________________________________________________________\n",
            "batch_normalization_3 (Batch (None, 128)               512       \n",
            "_________________________________________________________________\n",
            "output (Dense)               (None, 10)                1290      \n",
            "=================================================================\n",
            "Total params: 1,742,474\n",
            "Trainable params: 1,740,682\n",
            "Non-trainable params: 1,792\n",
            "_________________________________________________________________\n",
            "WARNING:tensorflow:From /usr/local/lib/python3.6/dist-packages/keras/optimizers.py:793: The name tf.train.Optimizer is deprecated. Please use tf.compat.v1.train.Optimizer instead.\n",
            "\n",
            "WARNING:tensorflow:From /usr/local/lib/python3.6/dist-packages/keras/backend/tensorflow_backend.py:3576: The name tf.log is deprecated. Please use tf.math.log instead.\n",
            "\n",
            "WARNING:tensorflow:From /usr/local/lib/python3.6/dist-packages/tensorflow_core/python/ops/math_grad.py:1424: where (from tensorflow.python.ops.array_ops) is deprecated and will be removed in a future version.\n",
            "Instructions for updating:\n",
            "Use tf.where in 2.0, which has the same broadcast rule as np.where\n",
            "WARNING:tensorflow:From /usr/local/lib/python3.6/dist-packages/keras/backend/tensorflow_backend.py:1033: The name tf.assign_add is deprecated. Please use tf.compat.v1.assign_add instead.\n",
            "\n",
            "WARNING:tensorflow:From /usr/local/lib/python3.6/dist-packages/keras/backend/tensorflow_backend.py:1020: The name tf.assign is deprecated. Please use tf.compat.v1.assign instead.\n",
            "\n",
            "WARNING:tensorflow:From /usr/local/lib/python3.6/dist-packages/keras/backend/tensorflow_backend.py:3005: The name tf.Session is deprecated. Please use tf.compat.v1.Session instead.\n",
            "\n",
            "Train on 50000 samples, validate on 10000 samples\n",
            "Epoch 1/50\n",
            "WARNING:tensorflow:From /usr/local/lib/python3.6/dist-packages/keras/backend/tensorflow_backend.py:190: The name tf.get_default_session is deprecated. Please use tf.compat.v1.get_default_session instead.\n",
            "\n",
            "WARNING:tensorflow:From /usr/local/lib/python3.6/dist-packages/keras/backend/tensorflow_backend.py:197: The name tf.ConfigProto is deprecated. Please use tf.compat.v1.ConfigProto instead.\n",
            "\n",
            "WARNING:tensorflow:From /usr/local/lib/python3.6/dist-packages/keras/backend/tensorflow_backend.py:207: The name tf.global_variables is deprecated. Please use tf.compat.v1.global_variables instead.\n",
            "\n",
            "WARNING:tensorflow:From /usr/local/lib/python3.6/dist-packages/keras/backend/tensorflow_backend.py:216: The name tf.is_variable_initialized is deprecated. Please use tf.compat.v1.is_variable_initialized instead.\n",
            "\n",
            "WARNING:tensorflow:From /usr/local/lib/python3.6/dist-packages/keras/backend/tensorflow_backend.py:223: The name tf.variables_initializer is deprecated. Please use tf.compat.v1.variables_initializer instead.\n",
            "\n",
            "50000/50000 [==============================] - 12s 248us/step - loss: 1.8708 - acc: 0.3559 - val_loss: 1.7972 - val_acc: 0.3795\n",
            "Epoch 2/50\n",
            "50000/50000 [==============================] - 2s 50us/step - loss: 1.5471 - acc: 0.4575 - val_loss: 1.6059 - val_acc: 0.4353\n",
            "Epoch 3/50\n",
            "50000/50000 [==============================] - 2s 49us/step - loss: 1.4418 - acc: 0.4949 - val_loss: 1.6619 - val_acc: 0.4180\n",
            "Epoch 4/50\n",
            "50000/50000 [==============================] - 2s 47us/step - loss: 1.3657 - acc: 0.5210 - val_loss: 1.5098 - val_acc: 0.4641\n",
            "Epoch 5/50\n",
            "50000/50000 [==============================] - 2s 47us/step - loss: 1.3060 - acc: 0.5424 - val_loss: 1.5192 - val_acc: 0.4590\n",
            "Epoch 6/50\n",
            "50000/50000 [==============================] - 2s 44us/step - loss: 1.2559 - acc: 0.5620 - val_loss: 1.4830 - val_acc: 0.4734\n",
            "Epoch 7/50\n",
            "50000/50000 [==============================] - 2s 42us/step - loss: 1.2067 - acc: 0.5800 - val_loss: 1.4613 - val_acc: 0.4846\n",
            "Epoch 8/50\n",
            "50000/50000 [==============================] - 2s 48us/step - loss: 1.1668 - acc: 0.5931 - val_loss: 1.4821 - val_acc: 0.4779\n",
            "Epoch 9/50\n",
            "50000/50000 [==============================] - 2s 46us/step - loss: 1.1188 - acc: 0.6114 - val_loss: 1.4800 - val_acc: 0.4837\n",
            "Epoch 10/50\n",
            "50000/50000 [==============================] - 2s 48us/step - loss: 1.0861 - acc: 0.6219 - val_loss: 1.6114 - val_acc: 0.4441\n",
            "Epoch 11/50\n",
            "50000/50000 [==============================] - 2s 45us/step - loss: 1.0488 - acc: 0.6357 - val_loss: 1.4807 - val_acc: 0.4820\n",
            "Epoch 12/50\n",
            "50000/50000 [==============================] - 2s 44us/step - loss: 1.0136 - acc: 0.6482 - val_loss: 1.4608 - val_acc: 0.4942\n",
            "Epoch 13/50\n",
            "50000/50000 [==============================] - 2s 44us/step - loss: 0.9740 - acc: 0.6642 - val_loss: 1.5645 - val_acc: 0.4810\n",
            "Epoch 14/50\n",
            "50000/50000 [==============================] - 2s 45us/step - loss: 0.9418 - acc: 0.6735 - val_loss: 1.5309 - val_acc: 0.4859\n",
            "Epoch 15/50\n",
            "50000/50000 [==============================] - 2s 46us/step - loss: 0.9110 - acc: 0.6861 - val_loss: 1.5357 - val_acc: 0.4862\n",
            "Epoch 16/50\n",
            "50000/50000 [==============================] - 2s 43us/step - loss: 0.8828 - acc: 0.6968 - val_loss: 1.6013 - val_acc: 0.4807\n",
            "Epoch 17/50\n",
            "50000/50000 [==============================] - 2s 45us/step - loss: 0.8470 - acc: 0.7097 - val_loss: 1.5801 - val_acc: 0.4674\n",
            "Epoch 18/50\n",
            "50000/50000 [==============================] - 2s 45us/step - loss: 0.8096 - acc: 0.7213 - val_loss: 1.5682 - val_acc: 0.4781\n",
            "Epoch 19/50\n",
            "50000/50000 [==============================] - 2s 44us/step - loss: 0.7799 - acc: 0.7321 - val_loss: 1.6395 - val_acc: 0.4752\n",
            "Epoch 20/50\n",
            "50000/50000 [==============================] - 2s 44us/step - loss: 0.7451 - acc: 0.7485 - val_loss: 1.8258 - val_acc: 0.4417\n",
            "Epoch 21/50\n",
            "50000/50000 [==============================] - 2s 45us/step - loss: 0.7229 - acc: 0.7533 - val_loss: 1.7000 - val_acc: 0.4751\n",
            "Epoch 22/50\n",
            "50000/50000 [==============================] - 2s 43us/step - loss: 0.6933 - acc: 0.7651 - val_loss: 1.7343 - val_acc: 0.4680\n",
            "Epoch 23/50\n",
            "50000/50000 [==============================] - 2s 43us/step - loss: 0.6636 - acc: 0.7743 - val_loss: 1.7596 - val_acc: 0.4736\n",
            "Epoch 24/50\n",
            "50000/50000 [==============================] - 2s 42us/step - loss: 0.6349 - acc: 0.7871 - val_loss: 1.7060 - val_acc: 0.4784\n",
            "Epoch 25/50\n",
            "50000/50000 [==============================] - 2s 41us/step - loss: 0.6109 - acc: 0.7956 - val_loss: 1.7467 - val_acc: 0.4743\n",
            "Epoch 26/50\n",
            "50000/50000 [==============================] - 2s 44us/step - loss: 0.5851 - acc: 0.8068 - val_loss: 1.8077 - val_acc: 0.4675\n",
            "Epoch 27/50\n",
            "50000/50000 [==============================] - 2s 46us/step - loss: 0.5567 - acc: 0.8164 - val_loss: 1.7378 - val_acc: 0.4827\n",
            "Epoch 28/50\n",
            "50000/50000 [==============================] - 2s 45us/step - loss: 0.5355 - acc: 0.8243 - val_loss: 1.9023 - val_acc: 0.4545\n",
            "Epoch 29/50\n",
            "50000/50000 [==============================] - 2s 45us/step - loss: 0.5099 - acc: 0.8317 - val_loss: 1.9026 - val_acc: 0.4752\n",
            "Epoch 30/50\n",
            "50000/50000 [==============================] - 2s 43us/step - loss: 0.4821 - acc: 0.8427 - val_loss: 1.9237 - val_acc: 0.4668\n",
            "Epoch 31/50\n",
            "50000/50000 [==============================] - 2s 43us/step - loss: 0.4660 - acc: 0.8490 - val_loss: 1.9165 - val_acc: 0.4640\n",
            "Epoch 32/50\n",
            "50000/50000 [==============================] - 2s 44us/step - loss: 0.4417 - acc: 0.8575 - val_loss: 1.9668 - val_acc: 0.4785\n",
            "Epoch 33/50\n",
            "50000/50000 [==============================] - 2s 45us/step - loss: 0.4212 - acc: 0.8637 - val_loss: 2.0337 - val_acc: 0.4688\n",
            "Epoch 34/50\n",
            "50000/50000 [==============================] - 2s 46us/step - loss: 0.3970 - acc: 0.8722 - val_loss: 2.1324 - val_acc: 0.4582\n",
            "Epoch 35/50\n",
            "50000/50000 [==============================] - 2s 47us/step - loss: 0.3780 - acc: 0.8792 - val_loss: 2.0723 - val_acc: 0.4599\n",
            "Epoch 36/50\n",
            "50000/50000 [==============================] - 2s 45us/step - loss: 0.3537 - acc: 0.8900 - val_loss: 2.2148 - val_acc: 0.4586\n",
            "Epoch 37/50\n",
            "50000/50000 [==============================] - 2s 45us/step - loss: 0.3457 - acc: 0.8902 - val_loss: 2.1566 - val_acc: 0.4622\n",
            "Epoch 38/50\n",
            "50000/50000 [==============================] - 2s 43us/step - loss: 0.3182 - acc: 0.9017 - val_loss: 2.0722 - val_acc: 0.4730\n",
            "Epoch 39/50\n",
            "50000/50000 [==============================] - 2s 42us/step - loss: 0.3064 - acc: 0.9062 - val_loss: 2.1879 - val_acc: 0.4651\n",
            "Epoch 40/50\n",
            "50000/50000 [==============================] - 2s 41us/step - loss: 0.2951 - acc: 0.9095 - val_loss: 2.1879 - val_acc: 0.4673\n",
            "Epoch 41/50\n",
            "50000/50000 [==============================] - 2s 44us/step - loss: 0.2759 - acc: 0.9158 - val_loss: 2.2027 - val_acc: 0.4689\n",
            "Epoch 42/50\n",
            "50000/50000 [==============================] - 2s 47us/step - loss: 0.2724 - acc: 0.9178 - val_loss: 2.3008 - val_acc: 0.4704\n",
            "Epoch 43/50\n",
            "50000/50000 [==============================] - 2s 44us/step - loss: 0.2484 - acc: 0.9270 - val_loss: 2.1941 - val_acc: 0.4695\n",
            "Epoch 44/50\n",
            "50000/50000 [==============================] - 2s 44us/step - loss: 0.2340 - acc: 0.9317 - val_loss: 2.3114 - val_acc: 0.4637\n",
            "Epoch 45/50\n",
            "50000/50000 [==============================] - 2s 43us/step - loss: 0.2238 - acc: 0.9354 - val_loss: 2.2898 - val_acc: 0.4815\n",
            "Epoch 46/50\n",
            "50000/50000 [==============================] - 2s 43us/step - loss: 0.2101 - acc: 0.9402 - val_loss: 2.3921 - val_acc: 0.4615\n",
            "Epoch 47/50\n",
            "50000/50000 [==============================] - 2s 43us/step - loss: 0.2057 - acc: 0.9410 - val_loss: 2.4884 - val_acc: 0.4719\n",
            "Epoch 48/50\n",
            "50000/50000 [==============================] - 2s 41us/step - loss: 0.1933 - acc: 0.9463 - val_loss: 2.2888 - val_acc: 0.4639\n",
            "Epoch 49/50\n",
            "50000/50000 [==============================] - 2s 43us/step - loss: 0.1827 - acc: 0.9490 - val_loss: 2.3140 - val_acc: 0.4824\n",
            "Epoch 50/50\n",
            "50000/50000 [==============================] - 2s 45us/step - loss: 0.1756 - acc: 0.9515 - val_loss: 2.4688 - val_acc: 0.4768\n"
          ],
          "name": "stdout"
        }
      ]
    },
    {
      "cell_type": "code",
      "metadata": {
        "id": "zdASOeRuyjhq",
        "colab_type": "code",
        "outputId": "9793d5b6-ae18-4247-97d3-7e307b7e49df",
        "colab": {
          "base_uri": "https://localhost:8080/",
          "height": 545
        }
      },
      "source": [
        "import matplotlib.pyplot as plt\n",
        "%matplotlib inline\n",
        "\"\"\"Code Here\n",
        "將結果繪出\n",
        "\"\"\"\n",
        "\n",
        "plt.plot(range(len(train_loss)), results['loss'] , label=\"train loss\")\n",
        "plt.plot(range(len(valid_loss)), results['val_loss'] , label=\"valid loss\")\n",
        "plt.legend()\n",
        "plt.title(\"Loss\")\n",
        "plt.show()\n",
        "\n",
        "plt.plot(range(len(train_acc)), results['acc'], label=\"train accuracy\")\n",
        "plt.plot(range(len(valid_acc)), results['val_acc'], label=\"valid accuracy\")\n",
        "plt.legend()\n",
        "plt.title(\"Accuracy\")\n",
        "plt.show()"
      ],
      "execution_count": 8,
      "outputs": [
        {
          "output_type": "display_data",
          "data": {
            "image/png": "[encoded data removed]",
            "text/plain": [
              "<Figure size 432x288 with 1 Axes>"
            ]
          },
          "metadata": {
            "tags": []
          }
        },
        {
          "output_type": "display_data",
          "data": {
            "image/png": "[encoded data removed]",
            "text/plain": [
              "<Figure size 432x288 with 1 Axes>"
            ]
          },
          "metadata": {
            "tags": []
          }
        }
      ]
    }
  ]
}