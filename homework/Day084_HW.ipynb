{
  "nbformat": 4,
  "nbformat_minor": 0,
  "metadata": {
    "kernelspec": {
      "name": "python3",
      "display_name": "Python 3"
    },
    "language_info": {
      "codemirror_mode": {
        "name": "ipython",
        "version": 3
      },
      "file_extension": ".py",
      "mimetype": "text/x-python",
      "name": "python",
      "nbconvert_exporter": "python",
      "pygments_lexer": "ipython3",
      "version": "3.6.5"
    },
    "colab": {
      "name": "Day084_HW.ipynb",
      "provenance": [],
      "collapsed_sections": []
    },
    "accelerator": "GPU"
  },
  "cells": [
    {
      "cell_type": "markdown",
      "metadata": {
        "id": "zSQ0zioYlkj-",
        "colab_type": "text"
      },
      "source": [
        "## Work\n",
        "### 請結合前面的知識與程式碼，比較不同的 regularization 的組合對訓練的結果與影響：如 dropout, regularizers, batch-normalization 等"
      ]
    },
    {
      "cell_type": "code",
      "metadata": {
        "id": "gDGazRzSlkkD",
        "colab_type": "code",
        "outputId": "356b2685-9f07-4842-fa99-3566d7485bb3",
        "colab": {
          "base_uri": "https://localhost:8080/",
          "height": 83
        }
      },
      "source": [
        "import os\n",
        "import keras\n",
        "import itertools\n",
        "# Disable GPU\n",
        "#os.environ[\"CUDA_VISIBLE_DEVICES\"] = \"\""
      ],
      "execution_count": 1,
      "outputs": [
        {
          "output_type": "stream",
          "text": [
            "Using TensorFlow backend.\n"
          ],
          "name": "stderr"
        },
        {
          "output_type": "display_data",
          "data": {
            "text/html": [
              "<p style=\"color: red;\">\n",
              "The default version of TensorFlow in Colab will soon switch to TensorFlow 2.x.<br>\n",
              "We recommend you <a href=\"https://www.tensorflow.org/guide/migrate\" target=\"_blank\">upgrade</a> now \n",
              "or ensure your notebook will continue to use TensorFlow 1.x via the <code>%tensorflow_version 1.x</code> magic:\n",
              "<a href=\"https://colab.research.google.com/notebooks/tensorflow_version.ipynb\" target=\"_blank\">more info</a>.</p>\n"
            ],
            "text/plain": [
              "<IPython.core.display.HTML object>"
            ]
          },
          "metadata": {
            "tags": []
          }
        }
      ]
    },
    {
      "cell_type": "code",
      "metadata": {
        "id": "ZcJdwPKUlkkP",
        "colab_type": "code",
        "outputId": "d7829622-b1f3-4176-c427-d27f7ed8f1df",
        "colab": {
          "base_uri": "https://localhost:8080/",
          "height": 54
        }
      },
      "source": [
        "train, test = keras.datasets.cifar10.load_data()"
      ],
      "execution_count": 2,
      "outputs": [
        {
          "output_type": "stream",
          "text": [
            "Downloading data from https://www.cs.toronto.edu/~kriz/cifar-10-python.tar.gz\n",
            "170500096/170498071 [==============================] - 2s 0us/step\n"
          ],
          "name": "stdout"
        }
      ]
    },
    {
      "cell_type": "code",
      "metadata": {
        "id": "Qq3N__EFlkkX",
        "colab_type": "code",
        "colab": {}
      },
      "source": [
        "## 資料前處理\n",
        "def preproc_x(x, flatten=True):\n",
        "    x = x / 255.\n",
        "    if flatten:\n",
        "        x = x.reshape((len(x), -1))\n",
        "    return x\n",
        "\n",
        "def preproc_y(y, num_classes=10):\n",
        "    if y.shape[-1] == 1:\n",
        "        y = keras.utils.to_categorical(y, num_classes)\n",
        "    return y    "
      ],
      "execution_count": 0,
      "outputs": []
    },
    {
      "cell_type": "code",
      "metadata": {
        "id": "fPYkJ_uolkke",
        "colab_type": "code",
        "colab": {}
      },
      "source": [
        "x_train, y_train = train\n",
        "x_test, y_test = test\n",
        "\n",
        "# Preproc the inputs\n",
        "x_train = preproc_x(x_train)\n",
        "x_test = preproc_x(x_test)\n",
        "\n",
        "# Preprc the outputs\n",
        "y_train = preproc_y(y_train)\n",
        "y_test = preproc_y(y_test)"
      ],
      "execution_count": 0,
      "outputs": []
    },
    {
      "cell_type": "code",
      "metadata": {
        "id": "bgog6_yHlkkl",
        "colab_type": "code",
        "colab": {}
      },
      "source": [
        "from keras.layers import BatchNormalization, Dropout\n",
        "\n",
        "\"\"\"\n",
        "建立神經網路，並加入 BN layer\n",
        "\"\"\"\n",
        "def build_mlp(input_shape, output_units=10, num_neurons=[512, 256, 128], drp_ratio=0.2):\n",
        "    input_layer = keras.layers.Input(input_shape)\n",
        "    \n",
        "    for i, n_units in enumerate(num_neurons):\n",
        "        if i == 0:\n",
        "            x = keras.layers.Dense(units=n_units, \n",
        "                                   activation=\"relu\", \n",
        "                                   name=\"hidden_layer\"+str(i+1))(input_layer)\n",
        "            x = BatchNormalization()(x)\n",
        "\n",
        "            x = Dropout(drp_ratio)(x)\n",
        "\n",
        "        else:\n",
        "            x = keras.layers.Dense(units=n_units, \n",
        "                                   activation=\"relu\", \n",
        "                                   name=\"hidden_layer\"+str(i+1))(x)\n",
        "            x = BatchNormalization()(x)\n",
        "\n",
        "            x = Dropout(drp_ratio)(x)\n",
        "    \n",
        "    out = keras.layers.Dense(units=output_units, activation=\"softmax\", name=\"output\")(x)\n",
        "    \n",
        "    model = keras.models.Model(inputs=[input_layer], outputs=[out])\n",
        "    return model"
      ],
      "execution_count": 0,
      "outputs": []
    },
    {
      "cell_type": "code",
      "metadata": {
        "id": "OyKyH-Ddlkks",
        "colab_type": "code",
        "colab": {}
      },
      "source": [
        "## 超參數設定\n",
        "LEARNING_RATE = 1e-3\n",
        "EPOCHS = 50\n",
        "BATCH_SIZE = 1024\n",
        "MOMENTUM = 0.95\n",
        "Dropout_EXP = 0.25"
      ],
      "execution_count": 0,
      "outputs": []
    },
    {
      "cell_type": "code",
      "metadata": {
        "scrolled": true,
        "id": "0TvxX5y5lkkw",
        "colab_type": "code",
        "colab": {
          "base_uri": "https://localhost:8080/",
          "height": 1000
        },
        "outputId": "57147d3e-91ad-4bc7-8b4a-644343dd7fce"
      },
      "source": [
        "results = {}\n",
        "\"\"\"Code Here\n",
        "撰寫你的訓練流程並將結果用 dictionary 紀錄\n",
        "\"\"\"\n",
        "\n",
        "model = build_mlp(input_shape=x_train.shape[1:], drp_ratio=Dropout_EXP)\n",
        "model.summary()\n",
        "optimizer = keras.optimizers.SGD(lr=LEARNING_RATE, nesterov=True, momentum=MOMENTUM)\n",
        "model.compile(loss=\"categorical_crossentropy\", metrics=[\"accuracy\"], optimizer=optimizer)\n",
        "\n",
        "model.fit(x_train, y_train, \n",
        "          epochs=EPOCHS, \n",
        "          batch_size=BATCH_SIZE, \n",
        "          validation_data=(x_test, y_test), \n",
        "          shuffle=True)\n",
        "\n",
        "# Collect results\n",
        "train_loss = model.history.history[\"loss\"]\n",
        "valid_loss = model.history.history[\"val_loss\"]\n",
        "train_acc = model.history.history[\"acc\"]\n",
        "valid_acc = model.history.history[\"val_acc\"]\n",
        "\n",
        "results['loss'] = train_loss\n",
        "results['valid_loss'] = valid_loss\n",
        "results['train_acc'] = train_acc\n",
        "results['valid_acc'] = valid_acc\n"
      ],
      "execution_count": 14,
      "outputs": [
        {
          "output_type": "stream",
          "text": [
            "WARNING:tensorflow:From /usr/local/lib/python3.6/dist-packages/keras/backend/tensorflow_backend.py:3733: calling dropout (from tensorflow.python.ops.nn_ops) with keep_prob is deprecated and will be removed in a future version.\n",
            "Instructions for updating:\n",
            "Please use `rate` instead of `keep_prob`. Rate should be set to `rate = 1 - keep_prob`.\n",
            "Model: \"model_1\"\n",
            "_________________________________________________________________\n",
            "Layer (type)                 Output Shape              Param #   \n",
            "=================================================================\n",
            "input_3 (InputLayer)         (None, 3072)              0         \n",
            "_________________________________________________________________\n",
            "hidden_layer1 (Dense)        (None, 512)               1573376   \n",
            "_________________________________________________________________\n",
            "batch_normalization_3 (Batch (None, 512)               2048      \n",
            "_________________________________________________________________\n",
            "dropout_1 (Dropout)          (None, 512)               0         \n",
            "_________________________________________________________________\n",
            "hidden_layer2 (Dense)        (None, 256)               131328    \n",
            "_________________________________________________________________\n",
            "batch_normalization_4 (Batch (None, 256)               1024      \n",
            "_________________________________________________________________\n",
            "dropout_2 (Dropout)          (None, 256)               0         \n",
            "_________________________________________________________________\n",
            "hidden_layer3 (Dense)        (None, 128)               32896     \n",
            "_________________________________________________________________\n",
            "batch_normalization_5 (Batch (None, 128)               512       \n",
            "_________________________________________________________________\n",
            "dropout_3 (Dropout)          (None, 128)               0         \n",
            "_________________________________________________________________\n",
            "output (Dense)               (None, 10)                1290      \n",
            "=================================================================\n",
            "Total params: 1,742,474\n",
            "Trainable params: 1,740,682\n",
            "Non-trainable params: 1,792\n",
            "_________________________________________________________________\n",
            "WARNING:tensorflow:From /usr/local/lib/python3.6/dist-packages/keras/optimizers.py:793: The name tf.train.Optimizer is deprecated. Please use tf.compat.v1.train.Optimizer instead.\n",
            "\n",
            "WARNING:tensorflow:From /usr/local/lib/python3.6/dist-packages/keras/backend/tensorflow_backend.py:3576: The name tf.log is deprecated. Please use tf.math.log instead.\n",
            "\n",
            "WARNING:tensorflow:From /usr/local/lib/python3.6/dist-packages/tensorflow_core/python/ops/math_grad.py:1424: where (from tensorflow.python.ops.array_ops) is deprecated and will be removed in a future version.\n",
            "Instructions for updating:\n",
            "Use tf.where in 2.0, which has the same broadcast rule as np.where\n",
            "WARNING:tensorflow:From /usr/local/lib/python3.6/dist-packages/keras/backend/tensorflow_backend.py:1033: The name tf.assign_add is deprecated. Please use tf.compat.v1.assign_add instead.\n",
            "\n",
            "WARNING:tensorflow:From /usr/local/lib/python3.6/dist-packages/keras/backend/tensorflow_backend.py:1020: The name tf.assign is deprecated. Please use tf.compat.v1.assign instead.\n",
            "\n",
            "WARNING:tensorflow:From /usr/local/lib/python3.6/dist-packages/keras/backend/tensorflow_backend.py:3005: The name tf.Session is deprecated. Please use tf.compat.v1.Session instead.\n",
            "\n",
            "Train on 50000 samples, validate on 10000 samples\n",
            "Epoch 1/50\n",
            "WARNING:tensorflow:From /usr/local/lib/python3.6/dist-packages/keras/backend/tensorflow_backend.py:190: The name tf.get_default_session is deprecated. Please use tf.compat.v1.get_default_session instead.\n",
            "\n",
            "WARNING:tensorflow:From /usr/local/lib/python3.6/dist-packages/keras/backend/tensorflow_backend.py:197: The name tf.ConfigProto is deprecated. Please use tf.compat.v1.ConfigProto instead.\n",
            "\n",
            "WARNING:tensorflow:From /usr/local/lib/python3.6/dist-packages/keras/backend/tensorflow_backend.py:207: The name tf.global_variables is deprecated. Please use tf.compat.v1.global_variables instead.\n",
            "\n",
            "WARNING:tensorflow:From /usr/local/lib/python3.6/dist-packages/keras/backend/tensorflow_backend.py:216: The name tf.is_variable_initialized is deprecated. Please use tf.compat.v1.is_variable_initialized instead.\n",
            "\n",
            "WARNING:tensorflow:From /usr/local/lib/python3.6/dist-packages/keras/backend/tensorflow_backend.py:223: The name tf.variables_initializer is deprecated. Please use tf.compat.v1.variables_initializer instead.\n",
            "\n",
            "50000/50000 [==============================] - 11s 224us/step - loss: 2.5502 - acc: 0.2154 - val_loss: 2.0530 - val_acc: 0.3053\n",
            "Epoch 2/50\n",
            "50000/50000 [==============================] - 1s 27us/step - loss: 2.1502 - acc: 0.2918 - val_loss: 1.8608 - val_acc: 0.3574\n",
            "Epoch 3/50\n",
            "50000/50000 [==============================] - 1s 27us/step - loss: 2.0020 - acc: 0.3223 - val_loss: 1.7425 - val_acc: 0.3870\n",
            "Epoch 4/50\n",
            "50000/50000 [==============================] - 1s 27us/step - loss: 1.9092 - acc: 0.3465 - val_loss: 1.7071 - val_acc: 0.4020\n",
            "Epoch 5/50\n",
            "50000/50000 [==============================] - 1s 27us/step - loss: 1.8453 - acc: 0.3635 - val_loss: 1.6641 - val_acc: 0.4124\n",
            "Epoch 6/50\n",
            "50000/50000 [==============================] - 1s 26us/step - loss: 1.8029 - acc: 0.3711 - val_loss: 1.6315 - val_acc: 0.4235\n",
            "Epoch 7/50\n",
            "50000/50000 [==============================] - 1s 26us/step - loss: 1.7696 - acc: 0.3800 - val_loss: 1.6041 - val_acc: 0.4339\n",
            "Epoch 8/50\n",
            "50000/50000 [==============================] - 1s 25us/step - loss: 1.7345 - acc: 0.3895 - val_loss: 1.5772 - val_acc: 0.4436\n",
            "Epoch 9/50\n",
            "50000/50000 [==============================] - 1s 26us/step - loss: 1.7050 - acc: 0.3958 - val_loss: 1.5584 - val_acc: 0.4442\n",
            "Epoch 10/50\n",
            "50000/50000 [==============================] - 1s 26us/step - loss: 1.6836 - acc: 0.4037 - val_loss: 1.5556 - val_acc: 0.4499\n",
            "Epoch 11/50\n",
            "50000/50000 [==============================] - 1s 27us/step - loss: 1.6657 - acc: 0.4111 - val_loss: 1.5424 - val_acc: 0.4514\n",
            "Epoch 12/50\n",
            "50000/50000 [==============================] - 1s 26us/step - loss: 1.6367 - acc: 0.4172 - val_loss: 1.5270 - val_acc: 0.4583\n",
            "Epoch 13/50\n",
            "50000/50000 [==============================] - 1s 26us/step - loss: 1.6183 - acc: 0.4251 - val_loss: 1.5072 - val_acc: 0.4646\n",
            "Epoch 14/50\n",
            "50000/50000 [==============================] - 1s 27us/step - loss: 1.6100 - acc: 0.4271 - val_loss: 1.5032 - val_acc: 0.4644\n",
            "Epoch 15/50\n",
            "50000/50000 [==============================] - 1s 27us/step - loss: 1.5925 - acc: 0.4336 - val_loss: 1.4883 - val_acc: 0.4746\n",
            "Epoch 16/50\n",
            "50000/50000 [==============================] - 1s 26us/step - loss: 1.5847 - acc: 0.4359 - val_loss: 1.4888 - val_acc: 0.4692\n",
            "Epoch 17/50\n",
            "50000/50000 [==============================] - 1s 27us/step - loss: 1.5672 - acc: 0.4433 - val_loss: 1.4649 - val_acc: 0.4793\n",
            "Epoch 18/50\n",
            "50000/50000 [==============================] - 1s 25us/step - loss: 1.5523 - acc: 0.4482 - val_loss: 1.4640 - val_acc: 0.4808\n",
            "Epoch 19/50\n",
            "50000/50000 [==============================] - 1s 26us/step - loss: 1.5404 - acc: 0.4517 - val_loss: 1.4551 - val_acc: 0.4843\n",
            "Epoch 20/50\n",
            "50000/50000 [==============================] - 1s 26us/step - loss: 1.5330 - acc: 0.4531 - val_loss: 1.4561 - val_acc: 0.4844\n",
            "Epoch 21/50\n",
            "50000/50000 [==============================] - 1s 27us/step - loss: 1.5208 - acc: 0.4585 - val_loss: 1.4321 - val_acc: 0.4904\n",
            "Epoch 22/50\n",
            "50000/50000 [==============================] - 1s 26us/step - loss: 1.5126 - acc: 0.4588 - val_loss: 1.4369 - val_acc: 0.4905\n",
            "Epoch 23/50\n",
            "50000/50000 [==============================] - 1s 26us/step - loss: 1.5062 - acc: 0.4643 - val_loss: 1.4451 - val_acc: 0.4866\n",
            "Epoch 24/50\n",
            "50000/50000 [==============================] - 1s 27us/step - loss: 1.4968 - acc: 0.4659 - val_loss: 1.4285 - val_acc: 0.4900\n",
            "Epoch 25/50\n",
            "50000/50000 [==============================] - 1s 26us/step - loss: 1.4910 - acc: 0.4651 - val_loss: 1.4188 - val_acc: 0.4914\n",
            "Epoch 26/50\n",
            "50000/50000 [==============================] - 1s 26us/step - loss: 1.4778 - acc: 0.4723 - val_loss: 1.4207 - val_acc: 0.4941\n",
            "Epoch 27/50\n",
            "50000/50000 [==============================] - 1s 27us/step - loss: 1.4735 - acc: 0.4771 - val_loss: 1.4187 - val_acc: 0.4930\n",
            "Epoch 28/50\n",
            "50000/50000 [==============================] - 1s 27us/step - loss: 1.4657 - acc: 0.4788 - val_loss: 1.4098 - val_acc: 0.4963\n",
            "Epoch 29/50\n",
            "50000/50000 [==============================] - 1s 27us/step - loss: 1.4578 - acc: 0.4801 - val_loss: 1.4117 - val_acc: 0.4937\n",
            "Epoch 30/50\n",
            "50000/50000 [==============================] - 1s 27us/step - loss: 1.4512 - acc: 0.4823 - val_loss: 1.4035 - val_acc: 0.5036\n",
            "Epoch 31/50\n",
            "50000/50000 [==============================] - 1s 26us/step - loss: 1.4457 - acc: 0.4861 - val_loss: 1.3931 - val_acc: 0.5044\n",
            "Epoch 32/50\n",
            "50000/50000 [==============================] - 1s 25us/step - loss: 1.4383 - acc: 0.4867 - val_loss: 1.4028 - val_acc: 0.4982\n",
            "Epoch 33/50\n",
            "50000/50000 [==============================] - 1s 26us/step - loss: 1.4338 - acc: 0.4880 - val_loss: 1.3862 - val_acc: 0.5098\n",
            "Epoch 34/50\n",
            "50000/50000 [==============================] - 1s 27us/step - loss: 1.4270 - acc: 0.4901 - val_loss: 1.3925 - val_acc: 0.5020\n",
            "Epoch 35/50\n",
            "50000/50000 [==============================] - 1s 27us/step - loss: 1.4216 - acc: 0.4917 - val_loss: 1.3804 - val_acc: 0.5084\n",
            "Epoch 36/50\n",
            "50000/50000 [==============================] - 1s 25us/step - loss: 1.4160 - acc: 0.4926 - val_loss: 1.3837 - val_acc: 0.5067\n",
            "Epoch 37/50\n",
            "50000/50000 [==============================] - 1s 25us/step - loss: 1.4118 - acc: 0.4975 - val_loss: 1.3820 - val_acc: 0.5067\n",
            "Epoch 38/50\n",
            "50000/50000 [==============================] - 1s 26us/step - loss: 1.4009 - acc: 0.4996 - val_loss: 1.3858 - val_acc: 0.5026\n",
            "Epoch 39/50\n",
            "50000/50000 [==============================] - 1s 28us/step - loss: 1.3974 - acc: 0.5008 - val_loss: 1.3701 - val_acc: 0.5118\n",
            "Epoch 40/50\n",
            "50000/50000 [==============================] - 1s 27us/step - loss: 1.3909 - acc: 0.5042 - val_loss: 1.3712 - val_acc: 0.5150\n",
            "Epoch 41/50\n",
            "50000/50000 [==============================] - 1s 27us/step - loss: 1.3871 - acc: 0.5080 - val_loss: 1.3734 - val_acc: 0.5110\n",
            "Epoch 42/50\n",
            "50000/50000 [==============================] - 1s 27us/step - loss: 1.3791 - acc: 0.5108 - val_loss: 1.3649 - val_acc: 0.5105\n",
            "Epoch 43/50\n",
            "50000/50000 [==============================] - 1s 26us/step - loss: 1.3715 - acc: 0.5112 - val_loss: 1.3582 - val_acc: 0.5126\n",
            "Epoch 44/50\n",
            "50000/50000 [==============================] - 1s 26us/step - loss: 1.3731 - acc: 0.5099 - val_loss: 1.3619 - val_acc: 0.5154\n",
            "Epoch 45/50\n",
            "50000/50000 [==============================] - 1s 26us/step - loss: 1.3640 - acc: 0.5128 - val_loss: 1.3634 - val_acc: 0.5107\n",
            "Epoch 46/50\n",
            "50000/50000 [==============================] - 1s 27us/step - loss: 1.3601 - acc: 0.5149 - val_loss: 1.3596 - val_acc: 0.5168\n",
            "Epoch 47/50\n",
            "50000/50000 [==============================] - 1s 26us/step - loss: 1.3558 - acc: 0.5129 - val_loss: 1.3470 - val_acc: 0.5170\n",
            "Epoch 48/50\n",
            "50000/50000 [==============================] - 1s 26us/step - loss: 1.3498 - acc: 0.5158 - val_loss: 1.3518 - val_acc: 0.5184\n",
            "Epoch 49/50\n",
            "50000/50000 [==============================] - 1s 26us/step - loss: 1.3450 - acc: 0.5206 - val_loss: 1.3639 - val_acc: 0.5108\n",
            "Epoch 50/50\n",
            "50000/50000 [==============================] - 1s 26us/step - loss: 1.3418 - acc: 0.5189 - val_loss: 1.3505 - val_acc: 0.5175\n"
          ],
          "name": "stdout"
        }
      ]
    },
    {
      "cell_type": "code",
      "metadata": {
        "id": "1ANczL1nlkk2",
        "colab_type": "code",
        "colab": {
          "base_uri": "https://localhost:8080/",
          "height": 545
        },
        "outputId": "2b716cf2-e2c6-48c7-e1a8-3428ba23af42"
      },
      "source": [
        "import matplotlib.pyplot as plt\n",
        "%matplotlib inline\n",
        "\"\"\"Code Here\n",
        "將結果繪出\n",
        "\"\"\"\n",
        "\n",
        "plt.plot(range(len(train_loss)), results['loss'], label=\"train loss\")\n",
        "plt.plot(range(len(valid_loss)), results['valid_loss'], label=\"valid loss\")\n",
        "plt.legend()\n",
        "plt.title(\"Loss\")\n",
        "plt.show()\n",
        "\n",
        "plt.plot(range(len(train_acc)), results['train_acc'], label=\"train accuracy\")\n",
        "plt.plot(range(len(valid_acc)), results['valid_acc'], label=\"valid accuracy\")\n",
        "plt.legend()\n",
        "plt.title(\"Accuracy\")\n",
        "plt.show()"
      ],
      "execution_count": 15,
      "outputs": [
        {
          "output_type": "display_data",
          "data": {
            "image/png": "[encoded data removed]",
            "text/plain": [
              "<Figure size 432x288 with 1 Axes>"
            ]
          },
          "metadata": {
            "tags": []
          }
        },
        {
          "output_type": "display_data",
          "data": {
            "image/png": "[encoded data removed]",
            "text/plain": [
              "<Figure size 432x288 with 1 Axes>"
            ]
          },
          "metadata": {
            "tags": []
          }
        }
      ]
    }
  ]
}